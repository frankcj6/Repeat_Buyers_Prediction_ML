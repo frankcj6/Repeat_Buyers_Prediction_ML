{
 "cells": [
  {
   "cell_type": "code",
   "execution_count": 1,
   "metadata": {},
   "outputs": [],
   "source": [
    "import pandas as pd\n",
    "import numpy as np\n",
    "from statistics import mean, stdev\n",
    "from sklearn.model_selection import train_test_split\n",
    "from sklearn.ensemble import RandomForestClassifier\n",
    "from xgboost import XGBClassifier\n",
    "import lightgbm as lgb\n",
    "from sklearn import metrics\n",
    "from imblearn.over_sampling import SMOTE, ADASYN\n",
    "from imblearn.under_sampling import RandomUnderSampler\n",
    "from sklearn.model_selection import StratifiedKFold\n",
    "from sklearn.model_selection import cross_val_score\n",
    "from matplotlib import pyplot\n",
    "from time import time\n",
    "from xgboost import plot_importance"
   ]
  },
  {
   "cell_type": "code",
   "execution_count": 2,
   "metadata": {},
   "outputs": [
    {
     "data": {
      "text/html": [
       "<div>\n",
       "<style scoped>\n",
       "    .dataframe tbody tr th:only-of-type {\n",
       "        vertical-align: middle;\n",
       "    }\n",
       "\n",
       "    .dataframe tbody tr th {\n",
       "        vertical-align: top;\n",
       "    }\n",
       "\n",
       "    .dataframe thead th {\n",
       "        text-align: right;\n",
       "    }\n",
       "</style>\n",
       "<table border=\"1\" class=\"dataframe\">\n",
       "  <thead>\n",
       "    <tr style=\"text-align: right;\">\n",
       "      <th></th>\n",
       "      <th>user_id</th>\n",
       "      <th>seller_id</th>\n",
       "      <th>label</th>\n",
       "      <th>user_gender_female</th>\n",
       "      <th>user_gender_male</th>\n",
       "      <th>user_gender_unknown</th>\n",
       "      <th>user_age_0_18</th>\n",
       "      <th>user_age_18_24</th>\n",
       "      <th>user_age_25_29</th>\n",
       "      <th>user_age_30_34</th>\n",
       "      <th>...</th>\n",
       "      <th>user_seller_add_to_favorite_cnt_db11_mth</th>\n",
       "      <th>user_seller_click_rt_db11</th>\n",
       "      <th>user_seller_purchase_rt_db11</th>\n",
       "      <th>user_seller_add_to_favorite_rt_db11</th>\n",
       "      <th>user_seller_click_rt_db11_wk</th>\n",
       "      <th>user_seller_purchase_rt_db11_wk</th>\n",
       "      <th>user_seller_add_to_favorite_rt_db11_wk</th>\n",
       "      <th>user_seller_click_rt_db11_mth</th>\n",
       "      <th>user_seller_purchase_rt_db11_mth</th>\n",
       "      <th>user_seller_add_to_favorite_rt_db11_mth</th>\n",
       "    </tr>\n",
       "  </thead>\n",
       "  <tbody>\n",
       "    <tr>\n",
       "      <td>0</td>\n",
       "      <td>34176</td>\n",
       "      <td>3906</td>\n",
       "      <td>0</td>\n",
       "      <td>1</td>\n",
       "      <td>0</td>\n",
       "      <td>0</td>\n",
       "      <td>0.0</td>\n",
       "      <td>0.0</td>\n",
       "      <td>0.0</td>\n",
       "      <td>0.0</td>\n",
       "      <td>...</td>\n",
       "      <td>0.0</td>\n",
       "      <td>0.0</td>\n",
       "      <td>0.0</td>\n",
       "      <td>0.0</td>\n",
       "      <td>0.0</td>\n",
       "      <td>0.0</td>\n",
       "      <td>0.0</td>\n",
       "      <td>0.0</td>\n",
       "      <td>0.0</td>\n",
       "      <td>0.0</td>\n",
       "    </tr>\n",
       "    <tr>\n",
       "      <td>1</td>\n",
       "      <td>34176</td>\n",
       "      <td>121</td>\n",
       "      <td>0</td>\n",
       "      <td>1</td>\n",
       "      <td>0</td>\n",
       "      <td>0</td>\n",
       "      <td>0.0</td>\n",
       "      <td>0.0</td>\n",
       "      <td>0.0</td>\n",
       "      <td>0.0</td>\n",
       "      <td>...</td>\n",
       "      <td>0.0</td>\n",
       "      <td>0.0</td>\n",
       "      <td>0.0</td>\n",
       "      <td>0.0</td>\n",
       "      <td>0.0</td>\n",
       "      <td>0.0</td>\n",
       "      <td>0.0</td>\n",
       "      <td>0.0</td>\n",
       "      <td>0.0</td>\n",
       "      <td>0.0</td>\n",
       "    </tr>\n",
       "    <tr>\n",
       "      <td>2</td>\n",
       "      <td>34176</td>\n",
       "      <td>4356</td>\n",
       "      <td>1</td>\n",
       "      <td>1</td>\n",
       "      <td>0</td>\n",
       "      <td>0</td>\n",
       "      <td>0.0</td>\n",
       "      <td>0.0</td>\n",
       "      <td>0.0</td>\n",
       "      <td>0.0</td>\n",
       "      <td>...</td>\n",
       "      <td>0.0</td>\n",
       "      <td>0.0</td>\n",
       "      <td>0.0</td>\n",
       "      <td>0.0</td>\n",
       "      <td>0.0</td>\n",
       "      <td>0.0</td>\n",
       "      <td>0.0</td>\n",
       "      <td>0.0</td>\n",
       "      <td>0.0</td>\n",
       "      <td>0.0</td>\n",
       "    </tr>\n",
       "    <tr>\n",
       "      <td>3</td>\n",
       "      <td>34176</td>\n",
       "      <td>2217</td>\n",
       "      <td>0</td>\n",
       "      <td>1</td>\n",
       "      <td>0</td>\n",
       "      <td>0</td>\n",
       "      <td>0.0</td>\n",
       "      <td>0.0</td>\n",
       "      <td>0.0</td>\n",
       "      <td>0.0</td>\n",
       "      <td>...</td>\n",
       "      <td>0.0</td>\n",
       "      <td>0.0</td>\n",
       "      <td>0.0</td>\n",
       "      <td>0.0</td>\n",
       "      <td>0.0</td>\n",
       "      <td>0.0</td>\n",
       "      <td>0.0</td>\n",
       "      <td>0.0</td>\n",
       "      <td>0.0</td>\n",
       "      <td>0.0</td>\n",
       "    </tr>\n",
       "    <tr>\n",
       "      <td>4</td>\n",
       "      <td>230784</td>\n",
       "      <td>4818</td>\n",
       "      <td>0</td>\n",
       "      <td>1</td>\n",
       "      <td>0</td>\n",
       "      <td>0</td>\n",
       "      <td>0.0</td>\n",
       "      <td>0.0</td>\n",
       "      <td>0.0</td>\n",
       "      <td>0.0</td>\n",
       "      <td>...</td>\n",
       "      <td>0.0</td>\n",
       "      <td>0.0</td>\n",
       "      <td>0.0</td>\n",
       "      <td>0.0</td>\n",
       "      <td>0.0</td>\n",
       "      <td>0.0</td>\n",
       "      <td>0.0</td>\n",
       "      <td>0.0</td>\n",
       "      <td>0.0</td>\n",
       "      <td>0.0</td>\n",
       "    </tr>\n",
       "  </tbody>\n",
       "</table>\n",
       "<p>5 rows × 82 columns</p>\n",
       "</div>"
      ],
      "text/plain": [
       "   user_id  seller_id  label  user_gender_female  user_gender_male  \\\n",
       "0    34176       3906      0                   1                 0   \n",
       "1    34176        121      0                   1                 0   \n",
       "2    34176       4356      1                   1                 0   \n",
       "3    34176       2217      0                   1                 0   \n",
       "4   230784       4818      0                   1                 0   \n",
       "\n",
       "   user_gender_unknown  user_age_0_18  user_age_18_24  user_age_25_29  \\\n",
       "0                    0            0.0             0.0             0.0   \n",
       "1                    0            0.0             0.0             0.0   \n",
       "2                    0            0.0             0.0             0.0   \n",
       "3                    0            0.0             0.0             0.0   \n",
       "4                    0            0.0             0.0             0.0   \n",
       "\n",
       "   user_age_30_34  ...  user_seller_add_to_favorite_cnt_db11_mth  \\\n",
       "0             0.0  ...                                       0.0   \n",
       "1             0.0  ...                                       0.0   \n",
       "2             0.0  ...                                       0.0   \n",
       "3             0.0  ...                                       0.0   \n",
       "4             0.0  ...                                       0.0   \n",
       "\n",
       "   user_seller_click_rt_db11  user_seller_purchase_rt_db11  \\\n",
       "0                        0.0                           0.0   \n",
       "1                        0.0                           0.0   \n",
       "2                        0.0                           0.0   \n",
       "3                        0.0                           0.0   \n",
       "4                        0.0                           0.0   \n",
       "\n",
       "   user_seller_add_to_favorite_rt_db11  user_seller_click_rt_db11_wk  \\\n",
       "0                                  0.0                           0.0   \n",
       "1                                  0.0                           0.0   \n",
       "2                                  0.0                           0.0   \n",
       "3                                  0.0                           0.0   \n",
       "4                                  0.0                           0.0   \n",
       "\n",
       "   user_seller_purchase_rt_db11_wk  user_seller_add_to_favorite_rt_db11_wk  \\\n",
       "0                              0.0                                     0.0   \n",
       "1                              0.0                                     0.0   \n",
       "2                              0.0                                     0.0   \n",
       "3                              0.0                                     0.0   \n",
       "4                              0.0                                     0.0   \n",
       "\n",
       "   user_seller_click_rt_db11_mth  user_seller_purchase_rt_db11_mth  \\\n",
       "0                            0.0                               0.0   \n",
       "1                            0.0                               0.0   \n",
       "2                            0.0                               0.0   \n",
       "3                            0.0                               0.0   \n",
       "4                            0.0                               0.0   \n",
       "\n",
       "   user_seller_add_to_favorite_rt_db11_mth  \n",
       "0                                      0.0  \n",
       "1                                      0.0  \n",
       "2                                      0.0  \n",
       "3                                      0.0  \n",
       "4                                      0.0  \n",
       "\n",
       "[5 rows x 82 columns]"
      ]
     },
     "execution_count": 2,
     "metadata": {},
     "output_type": "execute_result"
    }
   ],
   "source": [
    "#load data\n",
    "train = pd.read_csv('C:/Stats Consulting/train_final.csv')\n",
    "train.head()"
   ]
  },
  {
   "cell_type": "code",
   "execution_count": 3,
   "metadata": {},
   "outputs": [
    {
     "data": {
      "text/html": [
       "<div>\n",
       "<style scoped>\n",
       "    .dataframe tbody tr th:only-of-type {\n",
       "        vertical-align: middle;\n",
       "    }\n",
       "\n",
       "    .dataframe tbody tr th {\n",
       "        vertical-align: top;\n",
       "    }\n",
       "\n",
       "    .dataframe thead th {\n",
       "        text-align: right;\n",
       "    }\n",
       "</style>\n",
       "<table border=\"1\" class=\"dataframe\">\n",
       "  <thead>\n",
       "    <tr style=\"text-align: right;\">\n",
       "      <th></th>\n",
       "      <th>user_id</th>\n",
       "      <th>seller_id</th>\n",
       "      <th>user_gender_female</th>\n",
       "      <th>user_gender_male</th>\n",
       "      <th>user_gender_unknown</th>\n",
       "      <th>user_age_0_18</th>\n",
       "      <th>user_age_18_24</th>\n",
       "      <th>user_age_25_29</th>\n",
       "      <th>user_age_30_34</th>\n",
       "      <th>user_age_35_39</th>\n",
       "      <th>...</th>\n",
       "      <th>user_seller_add_to_favorite_cnt_db11_mth</th>\n",
       "      <th>user_seller_click_rt_db11</th>\n",
       "      <th>user_seller_purchase_rt_db11</th>\n",
       "      <th>user_seller_add_to_favorite_rt_db11</th>\n",
       "      <th>user_seller_click_rt_db11_wk</th>\n",
       "      <th>user_seller_purchase_rt_db11_wk</th>\n",
       "      <th>user_seller_add_to_favorite_rt_db11_wk</th>\n",
       "      <th>user_seller_click_rt_db11_mth</th>\n",
       "      <th>user_seller_purchase_rt_db11_mth</th>\n",
       "      <th>user_seller_add_to_favorite_rt_db11_mth</th>\n",
       "    </tr>\n",
       "  </thead>\n",
       "  <tbody>\n",
       "    <tr>\n",
       "      <td>0</td>\n",
       "      <td>163968</td>\n",
       "      <td>4605</td>\n",
       "      <td>1</td>\n",
       "      <td>0</td>\n",
       "      <td>0</td>\n",
       "      <td>0.0</td>\n",
       "      <td>0.0</td>\n",
       "      <td>0.0</td>\n",
       "      <td>0.0</td>\n",
       "      <td>0.0</td>\n",
       "      <td>...</td>\n",
       "      <td>0.0</td>\n",
       "      <td>0.0</td>\n",
       "      <td>0.0</td>\n",
       "      <td>0.0</td>\n",
       "      <td>0.0</td>\n",
       "      <td>0.0</td>\n",
       "      <td>0.0</td>\n",
       "      <td>0.0</td>\n",
       "      <td>0.0</td>\n",
       "      <td>0.0</td>\n",
       "    </tr>\n",
       "    <tr>\n",
       "      <td>1</td>\n",
       "      <td>360576</td>\n",
       "      <td>1581</td>\n",
       "      <td>0</td>\n",
       "      <td>0</td>\n",
       "      <td>1</td>\n",
       "      <td>0.0</td>\n",
       "      <td>1.0</td>\n",
       "      <td>0.0</td>\n",
       "      <td>0.0</td>\n",
       "      <td>0.0</td>\n",
       "      <td>...</td>\n",
       "      <td>0.0</td>\n",
       "      <td>1.4</td>\n",
       "      <td>0.6</td>\n",
       "      <td>0.0</td>\n",
       "      <td>0.0</td>\n",
       "      <td>0.0</td>\n",
       "      <td>0.0</td>\n",
       "      <td>0.0</td>\n",
       "      <td>0.0</td>\n",
       "      <td>0.0</td>\n",
       "    </tr>\n",
       "    <tr>\n",
       "      <td>2</td>\n",
       "      <td>98688</td>\n",
       "      <td>1964</td>\n",
       "      <td>1</td>\n",
       "      <td>0</td>\n",
       "      <td>0</td>\n",
       "      <td>0.0</td>\n",
       "      <td>0.0</td>\n",
       "      <td>0.0</td>\n",
       "      <td>0.0</td>\n",
       "      <td>0.0</td>\n",
       "      <td>...</td>\n",
       "      <td>0.0</td>\n",
       "      <td>0.0</td>\n",
       "      <td>0.0</td>\n",
       "      <td>0.0</td>\n",
       "      <td>0.0</td>\n",
       "      <td>0.0</td>\n",
       "      <td>0.0</td>\n",
       "      <td>0.0</td>\n",
       "      <td>0.0</td>\n",
       "      <td>0.0</td>\n",
       "    </tr>\n",
       "    <tr>\n",
       "      <td>3</td>\n",
       "      <td>98688</td>\n",
       "      <td>3645</td>\n",
       "      <td>1</td>\n",
       "      <td>0</td>\n",
       "      <td>0</td>\n",
       "      <td>0.0</td>\n",
       "      <td>0.0</td>\n",
       "      <td>0.0</td>\n",
       "      <td>0.0</td>\n",
       "      <td>0.0</td>\n",
       "      <td>...</td>\n",
       "      <td>0.0</td>\n",
       "      <td>0.0</td>\n",
       "      <td>0.0</td>\n",
       "      <td>0.0</td>\n",
       "      <td>0.0</td>\n",
       "      <td>0.0</td>\n",
       "      <td>0.0</td>\n",
       "      <td>0.0</td>\n",
       "      <td>0.0</td>\n",
       "      <td>0.0</td>\n",
       "    </tr>\n",
       "    <tr>\n",
       "      <td>4</td>\n",
       "      <td>295296</td>\n",
       "      <td>3361</td>\n",
       "      <td>0</td>\n",
       "      <td>1</td>\n",
       "      <td>0</td>\n",
       "      <td>0.0</td>\n",
       "      <td>1.0</td>\n",
       "      <td>0.0</td>\n",
       "      <td>0.0</td>\n",
       "      <td>0.0</td>\n",
       "      <td>...</td>\n",
       "      <td>0.0</td>\n",
       "      <td>0.0</td>\n",
       "      <td>0.0</td>\n",
       "      <td>0.0</td>\n",
       "      <td>0.0</td>\n",
       "      <td>0.0</td>\n",
       "      <td>0.0</td>\n",
       "      <td>0.0</td>\n",
       "      <td>0.0</td>\n",
       "      <td>0.0</td>\n",
       "    </tr>\n",
       "  </tbody>\n",
       "</table>\n",
       "<p>5 rows × 81 columns</p>\n",
       "</div>"
      ],
      "text/plain": [
       "   user_id  seller_id  user_gender_female  user_gender_male  \\\n",
       "0   163968       4605                   1                 0   \n",
       "1   360576       1581                   0                 0   \n",
       "2    98688       1964                   1                 0   \n",
       "3    98688       3645                   1                 0   \n",
       "4   295296       3361                   0                 1   \n",
       "\n",
       "   user_gender_unknown  user_age_0_18  user_age_18_24  user_age_25_29  \\\n",
       "0                    0            0.0             0.0             0.0   \n",
       "1                    1            0.0             1.0             0.0   \n",
       "2                    0            0.0             0.0             0.0   \n",
       "3                    0            0.0             0.0             0.0   \n",
       "4                    0            0.0             1.0             0.0   \n",
       "\n",
       "   user_age_30_34  user_age_35_39  ...  \\\n",
       "0             0.0             0.0  ...   \n",
       "1             0.0             0.0  ...   \n",
       "2             0.0             0.0  ...   \n",
       "3             0.0             0.0  ...   \n",
       "4             0.0             0.0  ...   \n",
       "\n",
       "   user_seller_add_to_favorite_cnt_db11_mth  user_seller_click_rt_db11  \\\n",
       "0                                       0.0                        0.0   \n",
       "1                                       0.0                        1.4   \n",
       "2                                       0.0                        0.0   \n",
       "3                                       0.0                        0.0   \n",
       "4                                       0.0                        0.0   \n",
       "\n",
       "   user_seller_purchase_rt_db11  user_seller_add_to_favorite_rt_db11  \\\n",
       "0                           0.0                                  0.0   \n",
       "1                           0.6                                  0.0   \n",
       "2                           0.0                                  0.0   \n",
       "3                           0.0                                  0.0   \n",
       "4                           0.0                                  0.0   \n",
       "\n",
       "   user_seller_click_rt_db11_wk  user_seller_purchase_rt_db11_wk  \\\n",
       "0                           0.0                              0.0   \n",
       "1                           0.0                              0.0   \n",
       "2                           0.0                              0.0   \n",
       "3                           0.0                              0.0   \n",
       "4                           0.0                              0.0   \n",
       "\n",
       "   user_seller_add_to_favorite_rt_db11_wk  user_seller_click_rt_db11_mth  \\\n",
       "0                                     0.0                            0.0   \n",
       "1                                     0.0                            0.0   \n",
       "2                                     0.0                            0.0   \n",
       "3                                     0.0                            0.0   \n",
       "4                                     0.0                            0.0   \n",
       "\n",
       "   user_seller_purchase_rt_db11_mth  user_seller_add_to_favorite_rt_db11_mth  \n",
       "0                               0.0                                      0.0  \n",
       "1                               0.0                                      0.0  \n",
       "2                               0.0                                      0.0  \n",
       "3                               0.0                                      0.0  \n",
       "4                               0.0                                      0.0  \n",
       "\n",
       "[5 rows x 81 columns]"
      ]
     },
     "execution_count": 3,
     "metadata": {},
     "output_type": "execute_result"
    }
   ],
   "source": [
    "test = pd.read_csv('C:/Stats Consulting/test_final.csv')\n",
    "test.head()"
   ]
  },
  {
   "cell_type": "code",
   "execution_count": 4,
   "metadata": {},
   "outputs": [],
   "source": [
    "#fill all infinite entry with 0\n",
    "train = train.replace(np.inf, 0)\n",
    "test = test.replace(np.inf, 0)"
   ]
  },
  {
   "cell_type": "code",
   "execution_count": 5,
   "metadata": {},
   "outputs": [
    {
     "name": "stdout",
     "output_type": "stream",
     "text": [
      "In the original data, counts of label 1: 15952\n",
      "In the original data, counts of label 0: 244912\n"
     ]
    }
   ],
   "source": [
    "#data split (training_set, testing_set)\n",
    "data_output = train.label\n",
    "data_input = train.drop('label',axis=1)\n",
    "#unbalanced\n",
    "data_output.sum()/data_output.count()\n",
    "print('In the original data, counts of label 1:',format(sum(data_output==1)))\n",
    "print('In the original data, counts of label 0:',format(sum(data_output==0)))"
   ]
  },
  {
   "cell_type": "code",
   "execution_count": 6,
   "metadata": {},
   "outputs": [
    {
     "name": "stdout",
     "output_type": "stream",
     "text": [
      "(182604, 81) (78260, 81) (182604,) (78260,)\n"
     ]
    }
   ],
   "source": [
    "training_set_x, testing_set_x, training_set_y, testing_set_y = train_test_split(data_input, data_output, test_size=0.3, random_state=1)\n",
    "print(training_set_x.shape, testing_set_x.shape, training_set_y.shape, testing_set_y.shape)"
   ]
  },
  {
   "cell_type": "code",
   "execution_count": 7,
   "metadata": {},
   "outputs": [
    {
     "data": {
      "text/plain": [
       "user_id                                    True\n",
       "seller_id                                  True\n",
       "user_gender_female                         True\n",
       "user_gender_male                           True\n",
       "user_gender_unknown                        True\n",
       "                                           ... \n",
       "user_seller_purchase_rt_db11_wk            True\n",
       "user_seller_add_to_favorite_rt_db11_wk     True\n",
       "user_seller_click_rt_db11_mth              True\n",
       "user_seller_purchase_rt_db11_mth           True\n",
       "user_seller_add_to_favorite_rt_db11_mth    True\n",
       "Length: 81, dtype: bool"
      ]
     },
     "execution_count": 7,
     "metadata": {},
     "output_type": "execute_result"
    }
   ],
   "source": [
    "np.isfinite(training_set_x).all()"
   ]
  },
  {
   "cell_type": "code",
   "execution_count": 8,
   "metadata": {},
   "outputs": [],
   "source": [
    "training_set_x_id = training_set_x[['user_id','seller_id']]\n",
    "testing_set_x_id = testing_set_x[['user_id', 'seller_id']]\n",
    "training_set_x = training_set_x.drop(['user_id','seller_id'], axis=1)\n",
    "testing_set_x = testing_set_x.drop(['user_id','seller_id'], axis=1)"
   ]
  },
  {
   "cell_type": "code",
   "execution_count": 9,
   "metadata": {},
   "outputs": [
    {
     "data": {
      "text/html": [
       "<div>\n",
       "<style scoped>\n",
       "    .dataframe tbody tr th:only-of-type {\n",
       "        vertical-align: middle;\n",
       "    }\n",
       "\n",
       "    .dataframe tbody tr th {\n",
       "        vertical-align: top;\n",
       "    }\n",
       "\n",
       "    .dataframe thead th {\n",
       "        text-align: right;\n",
       "    }\n",
       "</style>\n",
       "<table border=\"1\" class=\"dataframe\">\n",
       "  <thead>\n",
       "    <tr style=\"text-align: right;\">\n",
       "      <th></th>\n",
       "      <th>user_id</th>\n",
       "      <th>seller_id</th>\n",
       "    </tr>\n",
       "  </thead>\n",
       "  <tbody>\n",
       "    <tr>\n",
       "      <td>10287</td>\n",
       "      <td>189342</td>\n",
       "      <td>4385</td>\n",
       "    </tr>\n",
       "    <tr>\n",
       "      <td>38400</td>\n",
       "      <td>342513</td>\n",
       "      <td>1608</td>\n",
       "    </tr>\n",
       "    <tr>\n",
       "      <td>231446</td>\n",
       "      <td>265001</td>\n",
       "      <td>246</td>\n",
       "    </tr>\n",
       "    <tr>\n",
       "      <td>88252</td>\n",
       "      <td>307588</td>\n",
       "      <td>1861</td>\n",
       "    </tr>\n",
       "    <tr>\n",
       "      <td>56734</td>\n",
       "      <td>118311</td>\n",
       "      <td>4808</td>\n",
       "    </tr>\n",
       "  </tbody>\n",
       "</table>\n",
       "</div>"
      ],
      "text/plain": [
       "        user_id  seller_id\n",
       "10287    189342       4385\n",
       "38400    342513       1608\n",
       "231446   265001        246\n",
       "88252    307588       1861\n",
       "56734    118311       4808"
      ]
     },
     "execution_count": 9,
     "metadata": {},
     "output_type": "execute_result"
    }
   ],
   "source": [
    "testing_set_x_id.head()"
   ]
  },
  {
   "cell_type": "code",
   "execution_count": 10,
   "metadata": {},
   "outputs": [
    {
     "name": "stdout",
     "output_type": "stream",
     "text": [
      "(182604, 79)\n",
      "(78260, 79)\n"
     ]
    }
   ],
   "source": [
    "print(training_set_x.shape)\n",
    "print(testing_set_x.shape)"
   ]
  },
  {
   "cell_type": "code",
   "execution_count": 44,
   "metadata": {},
   "outputs": [
    {
     "name": "stdout",
     "output_type": "stream",
     "text": [
      "Accuracy: 0.9380143112701252\n",
      "ROC AUC: 0.6266996853466019\n"
     ]
    }
   ],
   "source": [
    "#initial model fitting\n",
    "#random forest\n",
    "model_rf = RandomForestClassifier(n_estimators=100, criterion='gini',bootstrap= True,max_features ='sqrt')\n",
    "#fit on training data\n",
    "model_rf.fit(training_set_x, training_set_y)\n",
    "#predictions\n",
    "rf_predictions = model_rf.predict(testing_set_x)\n",
    "rf_probs = model_rf.predict_proba(testing_set_x)[:, 1]\n",
    "#check model accuracy, ROC AUC\n",
    "print('Accuracy:',metrics.accuracy_score(testing_set_y, rf_predictions))\n",
    "print('ROC AUC:', metrics.roc_auc_score(testing_set_y, rf_probs))"
   ]
  },
  {
   "cell_type": "code",
   "execution_count": 45,
   "metadata": {},
   "outputs": [
    {
     "data": {
      "text/plain": [
       "0.00017889087656529517"
      ]
     },
     "execution_count": 45,
     "metadata": {},
     "output_type": "execute_result"
    }
   ],
   "source": [
    "np.mean(rf_predictions)"
   ]
  },
  {
   "cell_type": "code",
   "execution_count": 46,
   "metadata": {},
   "outputs": [
    {
     "name": "stdout",
     "output_type": "stream",
     "text": [
      "Accuracy: 0.9381165346281626\n",
      "ROC AUC 0.6626332093266523\n"
     ]
    }
   ],
   "source": [
    "#Gradient Boosting\n",
    "model_gbm = lgb.LGBMClassifier(objective='binary', metric='binary_logloss',learning_rate=0.03)\n",
    "#fit on training data\n",
    "model_gbm.fit(training_set_x, training_set_y)\n",
    "#predictions\n",
    "gbm_predictions = model_gbm.predict(testing_set_x)\n",
    "gbm_probs = model_gbm.predict_proba(testing_set_x)[:, 1]\n",
    "#check model accuracy, ROC AUC\n",
    "print('Accuracy:', metrics.accuracy_score(testing_set_y, gbm_predictions))\n",
    "print('ROC AUC', metrics.roc_auc_score(testing_set_y, gbm_probs))"
   ]
  },
  {
   "cell_type": "code",
   "execution_count": 47,
   "metadata": {},
   "outputs": [
    {
     "data": {
      "text/plain": [
       "0.0"
      ]
     },
     "execution_count": 47,
     "metadata": {},
     "output_type": "execute_result"
    }
   ],
   "source": [
    "np.mean(gbm_predictions)"
   ]
  },
  {
   "cell_type": "code",
   "execution_count": 48,
   "metadata": {},
   "outputs": [
    {
     "name": "stdout",
     "output_type": "stream",
     "text": [
      "Accuracy: 0.9381165346281626\n",
      "ROC AUC 0.6687084341115134\n"
     ]
    }
   ],
   "source": [
    "#XGB\n",
    "model_xgb = XGBClassifier(objective ='binary:logistic', learning_rate=0.1)\n",
    "#fit on training data\n",
    "model_xgb.fit(training_set_x, training_set_y)\n",
    "#predictions\n",
    "xgb_predictions = model_xgb.predict(testing_set_x)\n",
    "xgb_probs = model_xgb.predict_proba(testing_set_x)[:, 1]\n",
    "#check model accuracy, ROC AUC\n",
    "print('Accuracy:', metrics.accuracy_score(testing_set_y, xgb_predictions))\n",
    "print('ROC AUC', metrics.roc_auc_score(testing_set_y, xgb_probs))"
   ]
  },
  {
   "cell_type": "code",
   "execution_count": 49,
   "metadata": {},
   "outputs": [
    {
     "data": {
      "text/plain": [
       "0.0001277791975466394"
      ]
     },
     "execution_count": 49,
     "metadata": {},
     "output_type": "execute_result"
    }
   ],
   "source": [
    "np.mean(xgb_predictions)"
   ]
  },
  {
   "cell_type": "code",
   "execution_count": 50,
   "metadata": {},
   "outputs": [
    {
     "name": "stdout",
     "output_type": "stream",
     "text": [
      "After oversampling, counts of label 1: 171495\n",
      "After oversampling, counts of label 0: 171495\n"
     ]
    }
   ],
   "source": [
    "#SMOTE\n",
    "sm = SMOTE(random_state=2)\n",
    "training_set_x_res, training_set_y_res = sm.fit_sample(training_set_x, training_set_y.ravel())\n",
    "#print percentage of output after oversampling\n",
    "print('After oversampling, counts of label 1:',format(sum(training_set_y_res==1)))\n",
    "print('After oversampling, counts of label 0:',format(sum(training_set_y_res==0)))"
   ]
  },
  {
   "cell_type": "code",
   "execution_count": 51,
   "metadata": {},
   "outputs": [
    {
     "name": "stdout",
     "output_type": "stream",
     "text": [
      "Accuracy: 0.9370559672885255\n",
      "ROC AUC: 0.6159757561828828\n"
     ]
    }
   ],
   "source": [
    "#random forest model fitting with over sampling data\n",
    "model_rf_2 = RandomForestClassifier(n_estimators=100, criterion='gini',bootstrap= True,max_features ='sqrt')\n",
    "#fit on training data\n",
    "model_rf_2.fit(training_set_x_res, training_set_y_res)\n",
    "#predictions\n",
    "rf2_predictions = model_rf_2.predict(testing_set_x)\n",
    "rf2_probs = model_rf_2.predict_proba(testing_set_x)[:, 1]\n",
    "#check model accuracy, ROC AUC\n",
    "print('Accuracy:',metrics.accuracy_score(testing_set_y, rf2_predictions))\n",
    "print('ROC AUC:', metrics.roc_auc_score(testing_set_y, rf2_probs))"
   ]
  },
  {
   "cell_type": "code",
   "execution_count": 52,
   "metadata": {},
   "outputs": [
    {
     "data": {
      "text/plain": [
       "0.001903910043444927"
      ]
     },
     "execution_count": 52,
     "metadata": {},
     "output_type": "execute_result"
    }
   ],
   "source": [
    "np.mean(rf2_predictions)"
   ]
  },
  {
   "cell_type": "code",
   "execution_count": 53,
   "metadata": {},
   "outputs": [
    {
     "name": "stdout",
     "output_type": "stream",
     "text": [
      "Accuracy: 0.9373243036033734\n",
      "ROC AUC 0.6019417180008543\n"
     ]
    }
   ],
   "source": [
    "#Gradient Boosting\n",
    "model_gbm_2 = lgb.LGBMClassifier(objective='binary', metric='binary_logloss',learning_rate=0.03)\n",
    "#fit on training data\n",
    "model_gbm_2.fit(training_set_x_res, training_set_y_res)\n",
    "#predictions\n",
    "gbm2_predictions = model_gbm_2.predict(testing_set_x)\n",
    "gbm2_probs = model_gbm_2.predict_proba(testing_set_x)[:, 1]\n",
    "#check model accuracy, ROC AUC\n",
    "print('Accuracy:', metrics.accuracy_score(testing_set_y, gbm2_predictions))\n",
    "print('ROC AUC', metrics.roc_auc_score(testing_set_y, gbm2_probs))"
   ]
  },
  {
   "cell_type": "code",
   "execution_count": 54,
   "metadata": {},
   "outputs": [
    {
     "data": {
      "text/plain": [
       "0.001303347814975722"
      ]
     },
     "execution_count": 54,
     "metadata": {},
     "output_type": "execute_result"
    }
   ],
   "source": [
    "np.mean(gbm2_predictions)"
   ]
  },
  {
   "cell_type": "code",
   "execution_count": 55,
   "metadata": {},
   "outputs": [
    {
     "name": "stdout",
     "output_type": "stream",
     "text": [
      "Accuracy: 0.9377331970355226\n",
      "ROC AUC 0.6248724770437304\n"
     ]
    }
   ],
   "source": [
    "#XGB\n",
    "model_xgb_2 = XGBClassifier(objective ='binary:logistic', learning_rate=0.1)\n",
    "#fit on training data\n",
    "model_xgb_2.fit(training_set_x_res, training_set_y_res)\n",
    "#predictions\n",
    "xgb_2_predictions = model_xgb_2.predict(testing_set_x)\n",
    "xgb_2_probs = model_xgb_2.predict_proba(testing_set_x)[:, 1]\n",
    "#check model accuracy, ROC AUC\n",
    "print('Accuracy:', metrics.accuracy_score(testing_set_y, xgb_2_predictions))\n",
    "print('ROC AUC', metrics.roc_auc_score(testing_set_y, xgb_2_probs))"
   ]
  },
  {
   "cell_type": "code",
   "execution_count": 56,
   "metadata": {},
   "outputs": [
    {
     "data": {
      "text/plain": [
       "0.000664451827242525"
      ]
     },
     "execution_count": 56,
     "metadata": {},
     "output_type": "execute_result"
    }
   ],
   "source": [
    "np.mean(xgb_2_predictions)"
   ]
  },
  {
   "cell_type": "code",
   "execution_count": 57,
   "metadata": {},
   "outputs": [
    {
     "name": "stdout",
     "output_type": "stream",
     "text": [
      "After undersampling, counts of label 1: 11109\n",
      "After undersampling, counts of label 0: 11109\n"
     ]
    }
   ],
   "source": [
    "#RUS (under sampling)\n",
    "rus = RandomUnderSampler()\n",
    "training_x_rus, training_y_rus = rus.fit_sample(training_set_x, training_set_y)\n",
    "#print percentage of output after oversampling\n",
    "print('After undersampling, counts of label 1:',format(sum(training_y_rus==1)))\n",
    "print('After undersampling, counts of label 0:',format(sum(training_y_rus==0)))"
   ]
  },
  {
   "cell_type": "code",
   "execution_count": 58,
   "metadata": {},
   "outputs": [
    {
     "name": "stdout",
     "output_type": "stream",
     "text": [
      "Accuracy: 0.6372220802453361\n",
      "ROC AUC: 0.6467373159441926\n"
     ]
    }
   ],
   "source": [
    "#random forest model fitting with under sampling data\n",
    "model_rf_3 = RandomForestClassifier(n_estimators=100, criterion='gini',bootstrap= True,max_features ='sqrt')\n",
    "#fit on training data\n",
    "model_rf_3.fit(training_x_rus, training_y_rus)\n",
    "#predictions\n",
    "rf3_predictions = model_rf_3.predict(testing_set_x)\n",
    "rf3_probs = model_rf_3.predict_proba(testing_set_x)[:, 1]\n",
    "#check model accuracy, ROC AUC\n",
    "print('Accuracy:',metrics.accuracy_score(testing_set_y, rf3_predictions))\n",
    "print('ROC AUC:', metrics.roc_auc_score(testing_set_y, rf3_probs))"
   ]
  },
  {
   "cell_type": "code",
   "execution_count": 59,
   "metadata": {},
   "outputs": [
    {
     "data": {
      "text/plain": [
       "0.3722208024533606"
      ]
     },
     "execution_count": 59,
     "metadata": {},
     "output_type": "execute_result"
    }
   ],
   "source": [
    "np.mean(rf3_predictions)"
   ]
  },
  {
   "cell_type": "code",
   "execution_count": 60,
   "metadata": {},
   "outputs": [
    {
     "name": "stdout",
     "output_type": "stream",
     "text": [
      "Accuracy: 0.6441349348326092\n",
      "ROC AUC 0.6550006614804019\n"
     ]
    }
   ],
   "source": [
    "#Gradient Boosting\n",
    "model_gbm_3 = lgb.LGBMClassifier(objective='binary', metric='binary_logloss',learning_rate=0.03)\n",
    "#fit on training data\n",
    "model_gbm_3.fit(training_x_rus, training_y_rus)\n",
    "#predictions\n",
    "gbm3_predictions = model_gbm_3.predict(testing_set_x)\n",
    "gbm3_probs = model_gbm_3.predict_proba(testing_set_x)[:, 1]\n",
    "#check model accuracy, ROC AUC\n",
    "print('Accuracy:', metrics.accuracy_score(testing_set_y, gbm3_predictions))\n",
    "print('ROC AUC', metrics.roc_auc_score(testing_set_y, gbm3_probs))"
   ]
  },
  {
   "cell_type": "code",
   "execution_count": 61,
   "metadata": {},
   "outputs": [
    {
     "data": {
      "text/plain": [
       "0.365665729619218"
      ]
     },
     "execution_count": 61,
     "metadata": {},
     "output_type": "execute_result"
    }
   ],
   "source": [
    "np.mean(gbm3_predictions)"
   ]
  },
  {
   "cell_type": "code",
   "execution_count": 62,
   "metadata": {},
   "outputs": [
    {
     "name": "stdout",
     "output_type": "stream",
     "text": [
      "Accuracy: 0.6473038589317659\n",
      "ROC AUC 0.6585739648586859\n"
     ]
    }
   ],
   "source": [
    "#XGB\n",
    "model_xgb_3 = XGBClassifier(objective ='binary:logistic', learning_rate=0.1)\n",
    "#fit on training data\n",
    "model_xgb_3.fit(training_x_rus, training_y_rus)\n",
    "#predictions\n",
    "xgb_3_predictions = model_xgb_3.predict(testing_set_x)\n",
    "xgb_3_probs = model_xgb_3.predict_proba(testing_set_x)[:, 1]\n",
    "#check model accuracy, ROC AUC\n",
    "print('Accuracy:', metrics.accuracy_score(testing_set_y, xgb_3_predictions))\n",
    "print('ROC AUC', metrics.roc_auc_score(testing_set_y, xgb_3_probs))"
   ]
  },
  {
   "cell_type": "code",
   "execution_count": 63,
   "metadata": {},
   "outputs": [
    {
     "data": {
      "text/plain": [
       "0.000664451827242525"
      ]
     },
     "execution_count": 63,
     "metadata": {},
     "output_type": "execute_result"
    }
   ],
   "source": [
    "np.mean(xgb_2_predictions)"
   ]
  },
  {
   "cell_type": "code",
   "execution_count": 12,
   "metadata": {},
   "outputs": [
    {
     "data": {
      "text/html": [
       "<div>\n",
       "<style scoped>\n",
       "    .dataframe tbody tr th:only-of-type {\n",
       "        vertical-align: middle;\n",
       "    }\n",
       "\n",
       "    .dataframe tbody tr th {\n",
       "        vertical-align: top;\n",
       "    }\n",
       "\n",
       "    .dataframe thead th {\n",
       "        text-align: right;\n",
       "    }\n",
       "</style>\n",
       "<table border=\"1\" class=\"dataframe\">\n",
       "  <thead>\n",
       "    <tr style=\"text-align: right;\">\n",
       "      <th></th>\n",
       "      <th>user_gender_female</th>\n",
       "      <th>user_gender_male</th>\n",
       "      <th>user_gender_unknown</th>\n",
       "      <th>user_age_0_18</th>\n",
       "      <th>user_age_18_24</th>\n",
       "      <th>user_age_25_29</th>\n",
       "      <th>user_age_30_34</th>\n",
       "      <th>user_age_35_39</th>\n",
       "      <th>user_age_40_49</th>\n",
       "      <th>user_age_50_</th>\n",
       "      <th>...</th>\n",
       "      <th>user_seller_add_to_favorite_cnt_db11_mth</th>\n",
       "      <th>user_seller_click_rt_db11</th>\n",
       "      <th>user_seller_purchase_rt_db11</th>\n",
       "      <th>user_seller_add_to_favorite_rt_db11</th>\n",
       "      <th>user_seller_click_rt_db11_wk</th>\n",
       "      <th>user_seller_purchase_rt_db11_wk</th>\n",
       "      <th>user_seller_add_to_favorite_rt_db11_wk</th>\n",
       "      <th>user_seller_click_rt_db11_mth</th>\n",
       "      <th>user_seller_purchase_rt_db11_mth</th>\n",
       "      <th>user_seller_add_to_favorite_rt_db11_mth</th>\n",
       "    </tr>\n",
       "  </thead>\n",
       "  <tbody>\n",
       "    <tr>\n",
       "      <td>0</td>\n",
       "      <td>1</td>\n",
       "      <td>0</td>\n",
       "      <td>0</td>\n",
       "      <td>0.0</td>\n",
       "      <td>0.0</td>\n",
       "      <td>0.0</td>\n",
       "      <td>0.0</td>\n",
       "      <td>0.0</td>\n",
       "      <td>1.0</td>\n",
       "      <td>0.0</td>\n",
       "      <td>...</td>\n",
       "      <td>0.0</td>\n",
       "      <td>0.0</td>\n",
       "      <td>0.0</td>\n",
       "      <td>0.0</td>\n",
       "      <td>0.0</td>\n",
       "      <td>0.0</td>\n",
       "      <td>0.0</td>\n",
       "      <td>0.0</td>\n",
       "      <td>0.0</td>\n",
       "      <td>0.0</td>\n",
       "    </tr>\n",
       "    <tr>\n",
       "      <td>1</td>\n",
       "      <td>1</td>\n",
       "      <td>0</td>\n",
       "      <td>0</td>\n",
       "      <td>0.0</td>\n",
       "      <td>0.0</td>\n",
       "      <td>0.0</td>\n",
       "      <td>0.0</td>\n",
       "      <td>0.0</td>\n",
       "      <td>1.0</td>\n",
       "      <td>0.0</td>\n",
       "      <td>...</td>\n",
       "      <td>0.0</td>\n",
       "      <td>0.0</td>\n",
       "      <td>0.0</td>\n",
       "      <td>0.0</td>\n",
       "      <td>0.0</td>\n",
       "      <td>0.0</td>\n",
       "      <td>0.0</td>\n",
       "      <td>0.0</td>\n",
       "      <td>0.0</td>\n",
       "      <td>0.0</td>\n",
       "    </tr>\n",
       "    <tr>\n",
       "      <td>2</td>\n",
       "      <td>1</td>\n",
       "      <td>0</td>\n",
       "      <td>0</td>\n",
       "      <td>0.0</td>\n",
       "      <td>0.0</td>\n",
       "      <td>0.0</td>\n",
       "      <td>0.0</td>\n",
       "      <td>0.0</td>\n",
       "      <td>1.0</td>\n",
       "      <td>0.0</td>\n",
       "      <td>...</td>\n",
       "      <td>0.0</td>\n",
       "      <td>0.0</td>\n",
       "      <td>0.0</td>\n",
       "      <td>0.0</td>\n",
       "      <td>0.0</td>\n",
       "      <td>0.0</td>\n",
       "      <td>0.0</td>\n",
       "      <td>0.0</td>\n",
       "      <td>0.0</td>\n",
       "      <td>0.0</td>\n",
       "    </tr>\n",
       "    <tr>\n",
       "      <td>3</td>\n",
       "      <td>1</td>\n",
       "      <td>0</td>\n",
       "      <td>0</td>\n",
       "      <td>0.0</td>\n",
       "      <td>0.0</td>\n",
       "      <td>0.0</td>\n",
       "      <td>0.0</td>\n",
       "      <td>0.0</td>\n",
       "      <td>1.0</td>\n",
       "      <td>0.0</td>\n",
       "      <td>...</td>\n",
       "      <td>0.0</td>\n",
       "      <td>0.0</td>\n",
       "      <td>0.0</td>\n",
       "      <td>0.0</td>\n",
       "      <td>0.0</td>\n",
       "      <td>0.0</td>\n",
       "      <td>0.0</td>\n",
       "      <td>0.0</td>\n",
       "      <td>0.0</td>\n",
       "      <td>0.0</td>\n",
       "    </tr>\n",
       "    <tr>\n",
       "      <td>4</td>\n",
       "      <td>1</td>\n",
       "      <td>0</td>\n",
       "      <td>0</td>\n",
       "      <td>0.0</td>\n",
       "      <td>0.0</td>\n",
       "      <td>0.0</td>\n",
       "      <td>0.0</td>\n",
       "      <td>0.0</td>\n",
       "      <td>0.0</td>\n",
       "      <td>0.0</td>\n",
       "      <td>...</td>\n",
       "      <td>0.0</td>\n",
       "      <td>0.0</td>\n",
       "      <td>0.0</td>\n",
       "      <td>0.0</td>\n",
       "      <td>0.0</td>\n",
       "      <td>0.0</td>\n",
       "      <td>0.0</td>\n",
       "      <td>0.0</td>\n",
       "      <td>0.0</td>\n",
       "      <td>0.0</td>\n",
       "    </tr>\n",
       "  </tbody>\n",
       "</table>\n",
       "<p>5 rows × 79 columns</p>\n",
       "</div>"
      ],
      "text/plain": [
       "   user_gender_female  user_gender_male  user_gender_unknown  user_age_0_18  \\\n",
       "0                   1                 0                    0            0.0   \n",
       "1                   1                 0                    0            0.0   \n",
       "2                   1                 0                    0            0.0   \n",
       "3                   1                 0                    0            0.0   \n",
       "4                   1                 0                    0            0.0   \n",
       "\n",
       "   user_age_18_24  user_age_25_29  user_age_30_34  user_age_35_39  \\\n",
       "0             0.0             0.0             0.0             0.0   \n",
       "1             0.0             0.0             0.0             0.0   \n",
       "2             0.0             0.0             0.0             0.0   \n",
       "3             0.0             0.0             0.0             0.0   \n",
       "4             0.0             0.0             0.0             0.0   \n",
       "\n",
       "   user_age_40_49  user_age_50_  ...  \\\n",
       "0             1.0           0.0  ...   \n",
       "1             1.0           0.0  ...   \n",
       "2             1.0           0.0  ...   \n",
       "3             1.0           0.0  ...   \n",
       "4             0.0           0.0  ...   \n",
       "\n",
       "   user_seller_add_to_favorite_cnt_db11_mth  user_seller_click_rt_db11  \\\n",
       "0                                       0.0                        0.0   \n",
       "1                                       0.0                        0.0   \n",
       "2                                       0.0                        0.0   \n",
       "3                                       0.0                        0.0   \n",
       "4                                       0.0                        0.0   \n",
       "\n",
       "   user_seller_purchase_rt_db11  user_seller_add_to_favorite_rt_db11  \\\n",
       "0                           0.0                                  0.0   \n",
       "1                           0.0                                  0.0   \n",
       "2                           0.0                                  0.0   \n",
       "3                           0.0                                  0.0   \n",
       "4                           0.0                                  0.0   \n",
       "\n",
       "   user_seller_click_rt_db11_wk  user_seller_purchase_rt_db11_wk  \\\n",
       "0                           0.0                              0.0   \n",
       "1                           0.0                              0.0   \n",
       "2                           0.0                              0.0   \n",
       "3                           0.0                              0.0   \n",
       "4                           0.0                              0.0   \n",
       "\n",
       "   user_seller_add_to_favorite_rt_db11_wk  user_seller_click_rt_db11_mth  \\\n",
       "0                                     0.0                            0.0   \n",
       "1                                     0.0                            0.0   \n",
       "2                                     0.0                            0.0   \n",
       "3                                     0.0                            0.0   \n",
       "4                                     0.0                            0.0   \n",
       "\n",
       "   user_seller_purchase_rt_db11_mth  user_seller_add_to_favorite_rt_db11_mth  \n",
       "0                               0.0                                      0.0  \n",
       "1                               0.0                                      0.0  \n",
       "2                               0.0                                      0.0  \n",
       "3                               0.0                                      0.0  \n",
       "4                               0.0                                      0.0  \n",
       "\n",
       "[5 rows x 79 columns]"
      ]
     },
     "execution_count": 12,
     "metadata": {},
     "output_type": "execute_result"
    }
   ],
   "source": [
    "train_data_input = data_input.drop(['user_id','seller_id'], axis=1)\n",
    "train_data_input.head()"
   ]
  },
  {
   "cell_type": "code",
   "execution_count": 67,
   "metadata": {},
   "outputs": [],
   "source": [
    "# define imbalanced stratified k-fold cross validation with different sampling method\n",
    "def imbalance_cv_score(model, x, y, cv, scoring, sampling_method):\n",
    "    '''\n",
    "    This function computes the cross-validation score using a selected sampling method to adjust imbalance dataset, using \n",
    "    stratified k-fold cross validation. \n",
    "    \n",
    "    The first five arguments are the same with cross_val_score in sklearn package\n",
    "    \n",
    "    model = selected machine learning model\n",
    "    x = data input\n",
    "    y = data outcome(label)\n",
    "    cv = number of folds(k)\n",
    "    scoring = scoring metrics selected for evaluation. *Currently support accuracy_score, balance_accuracy, \n",
    "    f1_score, precision_score, recall_score, roc_auc_score, average_precision_score, ndcg_score in sklearn.metrics package*\n",
    "    sampling_method: choice of random sampler: Object that is similar to sampler object from python imbalanced-learn package\n",
    "    with the method sampling_method.fit_sample()\n",
    "\n",
    "    '''\n",
    "    cv_score = []\n",
    "    test_score = 0\n",
    "    cv_method = StratifiedKFold(n_splits=cv)\n",
    "    pred_score_method_list = [metrics.accuracy_score,metrics.balanced_accuracy_score,metrics.f1_score, metrics.precision_score,\n",
    "                             metrics.recall_score]\n",
    "    pred_prob_method_list = [metrics.roc_auc_score,metrics.average_precision_score,metrics.ndcg_score]\n",
    "    for train_index, test_index in cv_method.split(x,y):\n",
    "        xfold_train, yfold_train = sampling_method.fit_sample(x.iloc[train_index],y.iloc[train_index])\n",
    "        model.fit(xfold_train, yfold_train)\n",
    "        model_predictions = model.predict(x.iloc[test_index])\n",
    "        model_probs = model.predict_proba(x.iloc[test_index])[:, 1]\n",
    "        if scoring in pred_score_method_list:\n",
    "            score = scoring(y.iloc[test_index], model_predictions)\n",
    "        elif scoring in pred_prob_method_list:\n",
    "            score = scoring(y.iloc[test_index], model_probs)\n",
    "        else:\n",
    "            print('Sorry, Current scoring method not available now.')\n",
    "        cv_score.append(score)\n",
    "    return cv_score"
   ]
  },
  {
   "cell_type": "code",
   "execution_count": 68,
   "metadata": {},
   "outputs": [
    {
     "name": "stdout",
     "output_type": "stream",
     "text": [
      "The accuracy score for  RandomForestClassifier is  0.9378450075622369 with the Std of 6.807343177108824e-05 using sampling method  SMOTE in time:  923.634824514389\n",
      "The accuracy score for  RandomForestClassifier is  0.6366880878010754 with the Std of 0.0027509060097213977 using sampling method  RandomUnderSampler in time:  53.141502141952515\n",
      "The accuracy score for  RandomForestClassifier is  0.9379906769985434 with the Std of 0.00015777203435379363 using sampling method  ADASYN in time:  1583.4405930042267\n",
      "The accuracy score for  LGBMClassifier is  0.9383126835153565 with the Std of 0.00015864067255876686 using sampling method  SMOTE in time:  91.11737251281738\n",
      "The accuracy score for  LGBMClassifier is  0.6442552318351328 with the Std of 0.00643904764665986 using sampling method  RandomUnderSampler in time:  38.27532434463501\n",
      "The accuracy score for  LGBMClassifier is  0.9384430192030392 with the Std of 0.00017742049804691146 using sampling method  ADASYN in time:  202.69166827201843\n",
      "The accuracy score for  XGBClassifier is  0.9386346901056457 with the Std of 0.00017049034797741335 using sampling method  SMOTE in time:  767.4060382843018\n",
      "The accuracy score for  XGBClassifier is  0.6519757357656696 with the Std of 0.0032423671445207646 using sampling method  RandomUnderSampler in time:  66.10473442077637\n",
      "The accuracy score for  XGBClassifier is  0.9386270234517624 with the Std of 0.00013244227318740976 using sampling method  ADASYN in time:  431.0239083766937\n"
     ]
    }
   ],
   "source": [
    "Random_forest_model = RandomForestClassifier(n_estimators=100, criterion='gini',bootstrap= True,max_features ='sqrt')\n",
    "GBM_model = lgb.LGBMClassifier(objective='binary', metric='binary_logloss',learning_rate=0.03)\n",
    "XGB_model = XGBClassifier(objective ='binary:logistic', learning_rate=0.1)\n",
    "model_list= [Random_forest_model, GBM_model, XGB_model]\n",
    "sampler_list = [SMOTE(),RandomUnderSampler(),ADASYN()]\n",
    "results_acc = []\n",
    "time_res = []\n",
    "names = []\n",
    "for model in model_list:\n",
    "    name = model.__class__.__name__\n",
    "    for sm in sampler_list:\n",
    "        start = time()\n",
    "        sm_name = sm.__class__.__name__\n",
    "        scores = imbalance_cv_score(model, train_data_input, data_output, 5, metrics.accuracy_score, sm)\n",
    "        results_acc.append(mean(scores))\n",
    "        names.append(name)\n",
    "        end = time()\n",
    "        time_use = end - start\n",
    "        time_res.append(time_use)\n",
    "        print('The accuracy score for ', name, 'is ', mean(scores), \n",
    "              'with the Std of', stdev(scores), 'using sampling method ', sm_name, 'in time: ',time_use)"
   ]
  },
  {
   "cell_type": "code",
   "execution_count": 69,
   "metadata": {},
   "outputs": [],
   "source": [
    "time_res = pd.DataFrame(time_res, columns=['Time'])\n",
    "acc_res = pd.DataFrame(results_acc, columns=['Accuracy_score'])"
   ]
  },
  {
   "cell_type": "code",
   "execution_count": 70,
   "metadata": {},
   "outputs": [
    {
     "name": "stdout",
     "output_type": "stream",
     "text": [
      "The AUC score for  RandomForestClassifier is  0.6192421885429908 with the Std of 0.00420349694939281 using sampling method  SMOTE in time:  786.3133022785187\n",
      "The AUC score for  RandomForestClassifier is  0.65252307792151 with the Std of 0.005976935933975181 using sampling method  RandomUnderSampler in time:  52.763816595077515\n",
      "The AUC score for  RandomForestClassifier is  0.6197410865223703 with the Std of 0.0035674869473518948 using sampling method  ADASYN in time:  846.5520536899567\n",
      "The AUC score for  LGBMClassifier is  0.60331763442607 with the Std of 0.010191807649188686 using sampling method  SMOTE in time:  72.90432167053223\n",
      "The AUC score for  LGBMClassifier is  0.6626757084841813 with the Std of 0.005561470579210789 using sampling method  RandomUnderSampler in time:  15.070080518722534\n",
      "The AUC score for  LGBMClassifier is  0.6027030129050597 with the Std of 0.009504551369918056 using sampling method  ADASYN in time:  129.43742442131042\n",
      "The AUC score for  XGBClassifier is  0.6308816031919522 with the Std of 0.007044558395701672 using sampling method  SMOTE in time:  448.85464334487915\n",
      "The AUC score for  XGBClassifier is  0.6644168486674489 with the Std of 0.005606737496866924 using sampling method  RandomUnderSampler in time:  28.18894910812378\n",
      "The AUC score for  XGBClassifier is  0.6288900875713976 with the Std of 0.008149177366779458 using sampling method  ADASYN in time:  516.6041939258575\n"
     ]
    }
   ],
   "source": [
    "results_auc = []\n",
    "names = []\n",
    "time_res_2 = []\n",
    "for model in model_list:\n",
    "    name = model.__class__.__name__\n",
    "    for sm in sampler_list:\n",
    "        start = time()\n",
    "        sm_name = sm.__class__.__name__\n",
    "        scores = imbalance_cv_score(model, train_data_input, data_output, 5, metrics.roc_auc_score, sm)\n",
    "        results_auc.append(mean(scores))\n",
    "        names.append(name)\n",
    "        end = time()\n",
    "        time_use = end - start\n",
    "        time_res_2.append(time_use)\n",
    "        print('The AUC score for ', name, 'is ', mean(scores), \n",
    "              'with the Std of',stdev(scores), 'using sampling method ', sm_name, 'in time: ',time_use)"
   ]
  },
  {
   "cell_type": "code",
   "execution_count": 71,
   "metadata": {},
   "outputs": [],
   "source": [
    "auc_res = pd.DataFrame(results_auc, columns=['AUC_score'])\n",
    "sampler = pd.DataFrame({'Sampler_method':['SMOTE','RandomUnderSampler','ADASYN','SMOTE','RandomUnderSampler','ADASYN',\n",
    "                                        'SMOTE','RandomUnderSampler','ADASYN']})\n",
    "coef = pd.concat([time_res, acc_res, auc_res, sampler],axis=1)\n",
    "coef.index=['RF','RF','RF','GBM','GBM','GBM','XGB','XGB','XGB']"
   ]
  },
  {
   "cell_type": "code",
   "execution_count": 72,
   "metadata": {},
   "outputs": [],
   "source": [
    "coef.to_csv('C:/Stats Consulting/Coef.csv')"
   ]
  },
  {
   "cell_type": "code",
   "execution_count": 73,
   "metadata": {},
   "outputs": [
    {
     "data": {
      "text/html": [
       "<div>\n",
       "<style scoped>\n",
       "    .dataframe tbody tr th:only-of-type {\n",
       "        vertical-align: middle;\n",
       "    }\n",
       "\n",
       "    .dataframe tbody tr th {\n",
       "        vertical-align: top;\n",
       "    }\n",
       "\n",
       "    .dataframe thead th {\n",
       "        text-align: right;\n",
       "    }\n",
       "</style>\n",
       "<table border=\"1\" class=\"dataframe\">\n",
       "  <thead>\n",
       "    <tr style=\"text-align: right;\">\n",
       "      <th></th>\n",
       "      <th>Time</th>\n",
       "      <th>Accuracy_score</th>\n",
       "      <th>AUC_score</th>\n",
       "      <th>Sampler_method</th>\n",
       "    </tr>\n",
       "  </thead>\n",
       "  <tbody>\n",
       "    <tr>\n",
       "      <td>RF</td>\n",
       "      <td>923.634825</td>\n",
       "      <td>0.937845</td>\n",
       "      <td>0.619242</td>\n",
       "      <td>SMOTE</td>\n",
       "    </tr>\n",
       "    <tr>\n",
       "      <td>RF</td>\n",
       "      <td>53.141502</td>\n",
       "      <td>0.636688</td>\n",
       "      <td>0.652523</td>\n",
       "      <td>RandomUnderSampler</td>\n",
       "    </tr>\n",
       "    <tr>\n",
       "      <td>RF</td>\n",
       "      <td>1583.440593</td>\n",
       "      <td>0.937991</td>\n",
       "      <td>0.619741</td>\n",
       "      <td>ADASYN</td>\n",
       "    </tr>\n",
       "    <tr>\n",
       "      <td>GBM</td>\n",
       "      <td>91.117373</td>\n",
       "      <td>0.938313</td>\n",
       "      <td>0.603318</td>\n",
       "      <td>SMOTE</td>\n",
       "    </tr>\n",
       "    <tr>\n",
       "      <td>GBM</td>\n",
       "      <td>38.275324</td>\n",
       "      <td>0.644255</td>\n",
       "      <td>0.662676</td>\n",
       "      <td>RandomUnderSampler</td>\n",
       "    </tr>\n",
       "    <tr>\n",
       "      <td>GBM</td>\n",
       "      <td>202.691668</td>\n",
       "      <td>0.938443</td>\n",
       "      <td>0.602703</td>\n",
       "      <td>ADASYN</td>\n",
       "    </tr>\n",
       "    <tr>\n",
       "      <td>XGB</td>\n",
       "      <td>767.406038</td>\n",
       "      <td>0.938635</td>\n",
       "      <td>0.630882</td>\n",
       "      <td>SMOTE</td>\n",
       "    </tr>\n",
       "    <tr>\n",
       "      <td>XGB</td>\n",
       "      <td>66.104734</td>\n",
       "      <td>0.651976</td>\n",
       "      <td>0.664417</td>\n",
       "      <td>RandomUnderSampler</td>\n",
       "    </tr>\n",
       "    <tr>\n",
       "      <td>XGB</td>\n",
       "      <td>431.023908</td>\n",
       "      <td>0.938627</td>\n",
       "      <td>0.628890</td>\n",
       "      <td>ADASYN</td>\n",
       "    </tr>\n",
       "  </tbody>\n",
       "</table>\n",
       "</div>"
      ],
      "text/plain": [
       "            Time  Accuracy_score  AUC_score      Sampler_method\n",
       "RF    923.634825        0.937845   0.619242               SMOTE\n",
       "RF     53.141502        0.636688   0.652523  RandomUnderSampler\n",
       "RF   1583.440593        0.937991   0.619741              ADASYN\n",
       "GBM    91.117373        0.938313   0.603318               SMOTE\n",
       "GBM    38.275324        0.644255   0.662676  RandomUnderSampler\n",
       "GBM   202.691668        0.938443   0.602703              ADASYN\n",
       "XGB   767.406038        0.938635   0.630882               SMOTE\n",
       "XGB    66.104734        0.651976   0.664417  RandomUnderSampler\n",
       "XGB   431.023908        0.938627   0.628890              ADASYN"
      ]
     },
     "execution_count": 73,
     "metadata": {},
     "output_type": "execute_result"
    }
   ],
   "source": [
    "coef"
   ]
  },
  {
   "cell_type": "code",
   "execution_count": 14,
   "metadata": {},
   "outputs": [
    {
     "name": "stdout",
     "output_type": "stream",
     "text": [
      "After oversampling, counts of label 1: 171495\n",
      "After oversampling, counts of label 0: 171495\n"
     ]
    },
    {
     "data": {
      "text/plain": [
       "Text(0, 0.5, 'Number of Records')"
      ]
     },
     "execution_count": 14,
     "metadata": {},
     "output_type": "execute_result"
    },
    {
     "data": {
      "image/png": "[encoded data removed]",
      "text/plain": [
       "<Figure size 432x288 with 1 Axes>"
      ]
     },
     "metadata": {
      "needs_background": "light"
     },
     "output_type": "display_data"
    }
   ],
   "source": [
    "#  best model\n",
    "XGB_model = XGBClassifier(objective ='binary:logistic', learning_rate=0.1)\n",
    "# data sampling using SMOTE\n",
    "sm = SMOTE()\n",
    "training_x_sm, training_y_sm = sm.fit_sample(training_set_x, training_set_y)\n",
    "#print percentage of output after oversampling\n",
    "print('After oversampling, counts of label 1:',format(sum(training_y_sm==1)))\n",
    "print('After oversampling, counts of label 0:',format(sum(training_y_sm==0)))\n",
    "#plot output distribution after oversampling\n",
    "pyplot.hist(training_y_sm, color='blue')\n",
    "pyplot.title('Histogram of output distribution')\n",
    "pyplot.xlabel('Repeat Customer or Not')\n",
    "pyplot.ylabel('Number of Records')"
   ]
  },
  {
   "cell_type": "code",
   "execution_count": 15,
   "metadata": {},
   "outputs": [
    {
     "name": "stdout",
     "output_type": "stream",
     "text": [
      "Accuracy: 0.9379376437515973\n",
      "ROC AUC 0.6285759544889109\n"
     ]
    }
   ],
   "source": [
    "#fit on training data\n",
    "XGB_model.fit(training_x_sm, training_y_sm)\n",
    "#predictions\n",
    "best_model_pred = XGB_model.predict(testing_set_x)\n",
    "best_model_probs = XGB_model.predict_proba(testing_set_x)[:, 1]\n",
    "#check model accuracy, ROC AUC\n",
    "print('Accuracy:', metrics.accuracy_score(testing_set_y, best_model_pred))\n",
    "print('ROC AUC', metrics.roc_auc_score(testing_set_y, best_model_probs))"
   ]
  },
  {
   "cell_type": "code",
   "execution_count": 18,
   "metadata": {},
   "outputs": [
    {
     "data": {
      "text/plain": [
       "0.0006005622284692053"
      ]
     },
     "execution_count": 18,
     "metadata": {},
     "output_type": "execute_result"
    }
   ],
   "source": [
    "np.mean(best_model_pred)"
   ]
  },
  {
   "cell_type": "code",
   "execution_count": 16,
   "metadata": {},
   "outputs": [
    {
     "data": {
      "text/plain": [
       "{'user_seller_purchase_day_rt': 547,\n",
       " 'user_seller_item_cnt': 100,\n",
       " 'user_age_25_29': 204,\n",
       " 'user_age_30_34': 140,\n",
       " 'user_seller_click_days': 81,\n",
       " 'brand_similarity_score': 183,\n",
       " 'user_seller_cat_cnt': 46,\n",
       " 'user_gender_male': 58,\n",
       " 'user_gender_female': 94,\n",
       " 'user_gender_unknown': 38,\n",
       " 'seller_click_days': 34,\n",
       " 'user_item_cnt': 366,\n",
       " 'seller_purchase_rt': 194,\n",
       " 'seller_purchase_cnt': 100,\n",
       " 'user_seller_purchase_rt': 236,\n",
       " 'seller_add_to_cart_cnt': 69,\n",
       " 'seller_action_total_days': 39,\n",
       " 'seller_purchase_day_rt': 100,\n",
       " 'seller_item_cnt': 144,\n",
       " 'user_action_total_days': 60,\n",
       " 'seller_add_to_cart_days': 58,\n",
       " 'user_age_35_39': 71,\n",
       " 'user_seller_action_total_cnt': 53,\n",
       " 'user_age_18_24': 70,\n",
       " 'user_seller_purchase_cnt': 62,\n",
       " 'cat_similarity_score': 138,\n",
       " 'user_purchase_rt': 196,\n",
       " 'user_seller_purchase_cnt_db11': 48,\n",
       " 'user_seller_click_cnt': 35,\n",
       " 'seller_cat_cnt': 32,\n",
       " 'user_seller_click_rt_db11': 42,\n",
       " 'seller_click_cnt': 66,\n",
       " 'user_seller_click_cnt_db11': 59,\n",
       " 'user_seller_add_to_favorite_days': 29,\n",
       " 'user_seller_add_to_cart_cnt': 9,\n",
       " 'user_age_40_49': 64,\n",
       " 'user_seller_purchase_cnt_db11_wk': 4,\n",
       " 'user_seller_add_to_favorite_cnt': 24,\n",
       " 'user_click_days': 31,\n",
       " 'seller_add_to_favorite_cnt': 62,\n",
       " 'user_seller_add_to_favorite_cnt_db11_wk': 12,\n",
       " 'seller_add_to_favorite_days': 51,\n",
       " 'user_purchase_day_rt': 144,\n",
       " 'user_action_total_cnt': 49,\n",
       " 'seller_purchase_days': 54,\n",
       " 'user_seller_brand_cnt': 20,\n",
       " 'user_purchase_cnt': 49,\n",
       " 'user_seller_add_to_cart_days': 6,\n",
       " 'seller_brand_cnt': 50,\n",
       " 'seller_action_total_cnt': 36,\n",
       " 'user_seller_purchase_rt_db11': 21,\n",
       " 'user_add_to_cart_days': 9,\n",
       " 'user_seller_purchase_rt_db11_wk': 2,\n",
       " 'user_add_to_favorite_days': 18,\n",
       " 'user_seller_click_cnt_db11_mth': 9,\n",
       " 'user_age_50_': 14,\n",
       " 'user_seller_click_rt_db11_mth': 8,\n",
       " 'user_seller_action_total_days': 14,\n",
       " 'user_click_cnt': 53,\n",
       " 'user_seller_add_to_cart_cnt_db11_wk': 2,\n",
       " 'user_brand_cnt': 7,\n",
       " 'user_seller_add_to_favorite_cnt_db11': 10,\n",
       " 'user_add_to_favorite_cnt': 33,\n",
       " 'user_seller_click_rt_db11_wk': 22,\n",
       " 'user_purchase_days': 46,\n",
       " 'user_seller_click_cnt_db11_wk': 10,\n",
       " 'user_add_to_cart_cnt': 10,\n",
       " 'user_seller_add_to_favorite_cnt_db11_mth': 2,\n",
       " 'user_seller_add_to_favorite_rt_db11': 5,\n",
       " 'user_age_unknown': 3,\n",
       " 'user_seller_add_to_favorite_rt_db11_mth': 1}"
      ]
     },
     "execution_count": 16,
     "metadata": {},
     "output_type": "execute_result"
    }
   ],
   "source": [
    "XGB_model.get_booster().get_score(importance_type='weight')"
   ]
  },
  {
   "cell_type": "code",
   "execution_count": 17,
   "metadata": {},
   "outputs": [
    {
     "data": {
      "text/plain": [
       "{'user_seller_purchase_day_rt': 1240.7295470437539,\n",
       " 'user_seller_item_cnt': 146.4212660377161,\n",
       " 'user_age_25_29': 1192.8373170752227,\n",
       " 'user_age_30_34': 1073.7224471358516,\n",
       " 'user_seller_click_days': 149.12133424863583,\n",
       " 'brand_similarity_score': 77.11785386848688,\n",
       " 'user_seller_cat_cnt': 15.859300065542174,\n",
       " 'user_gender_male': 697.8888443203263,\n",
       " 'user_gender_female': 1503.9663368771417,\n",
       " 'user_gender_unknown': 2418.4510399836577,\n",
       " 'seller_click_days': 15.1389593317647,\n",
       " 'user_item_cnt': 659.1947904810581,\n",
       " 'seller_purchase_rt': 27.338801616726823,\n",
       " 'seller_purchase_cnt': 31.09853823894998,\n",
       " 'user_seller_purchase_rt': 327.5399647364706,\n",
       " 'seller_add_to_cart_cnt': 25.157285426434782,\n",
       " 'seller_action_total_days': 18.87777088333333,\n",
       " 'seller_purchase_day_rt': 39.96568740281697,\n",
       " 'seller_item_cnt': 17.481638424038902,\n",
       " 'user_action_total_days': 23.987569630833338,\n",
       " 'seller_add_to_cart_days': 23.662735165534485,\n",
       " 'user_age_35_39': 820.5721481722943,\n",
       " 'user_seller_action_total_cnt': 97.56958469528298,\n",
       " 'user_age_18_24': 1030.102945929364,\n",
       " 'user_seller_purchase_cnt': 201.7513516418226,\n",
       " 'cat_similarity_score': 17.7773727861884,\n",
       " 'user_purchase_rt': 31.577513991897934,\n",
       " 'user_seller_purchase_cnt_db11': 150.9639507177083,\n",
       " 'user_seller_click_cnt': 21.186872336485717,\n",
       " 'seller_cat_cnt': 13.119266106562499,\n",
       " 'user_seller_click_rt_db11': 62.52735358564288,\n",
       " 'seller_click_cnt': 21.63353327530303,\n",
       " 'user_seller_click_cnt_db11': 285.63484610044065,\n",
       " 'user_seller_add_to_favorite_days': 303.4588030662069,\n",
       " 'user_seller_add_to_cart_cnt': 41.19552506555555,\n",
       " 'user_age_40_49': 780.7705394160841,\n",
       " 'user_seller_purchase_cnt_db11_wk': 10.480648984999998,\n",
       " 'user_seller_add_to_favorite_cnt': 121.0303723308333,\n",
       " 'user_click_days': 10.228020540322575,\n",
       " 'seller_add_to_favorite_cnt': 26.38491290293548,\n",
       " 'user_seller_add_to_favorite_cnt_db11_wk': 37.357830692499995,\n",
       " 'seller_add_to_favorite_days': 23.148999584831365,\n",
       " 'user_purchase_day_rt': 46.71913373397915,\n",
       " 'user_action_total_cnt': 11.235203393428566,\n",
       " 'seller_purchase_days': 31.353039375629617,\n",
       " 'user_seller_brand_cnt': 25.727440389999998,\n",
       " 'user_purchase_cnt': 9.404787841908165,\n",
       " 'user_seller_add_to_cart_days': 33.13241068333333,\n",
       " 'seller_brand_cnt': 34.02372007009999,\n",
       " 'seller_action_total_cnt': 14.885551242611111,\n",
       " 'user_seller_purchase_rt_db11': 46.40853947952381,\n",
       " 'user_add_to_cart_days': 98.92765710222223,\n",
       " 'user_seller_purchase_rt_db11_wk': 10.12844847,\n",
       " 'user_add_to_favorite_days': 20.38253698277778,\n",
       " 'user_seller_click_cnt_db11_mth': 15.47151057222222,\n",
       " 'user_age_50_': 262.55050648571427,\n",
       " 'user_seller_click_rt_db11_mth': 16.27643156,\n",
       " 'user_seller_action_total_days': 12.575971996428573,\n",
       " 'user_click_cnt': 10.620057290603771,\n",
       " 'user_seller_add_to_cart_cnt_db11_wk': 11.30305862,\n",
       " 'user_brand_cnt': 11.58851621857143,\n",
       " 'user_seller_add_to_favorite_cnt_db11': 14.835815145999998,\n",
       " 'user_add_to_favorite_cnt': 13.175575750909092,\n",
       " 'user_seller_click_rt_db11_wk': 34.68249612330454,\n",
       " 'user_purchase_days': 36.65218669505218,\n",
       " 'user_seller_click_cnt_db11_wk': 27.424690241999997,\n",
       " 'user_add_to_cart_cnt': 73.79804993999998,\n",
       " 'user_seller_add_to_favorite_cnt_db11_mth': 8.55119419,\n",
       " 'user_seller_add_to_favorite_rt_db11': 8.457032212,\n",
       " 'user_age_unknown': 7.17511622,\n",
       " 'user_seller_add_to_favorite_rt_db11_mth': 9.58082485}"
      ]
     },
     "execution_count": 17,
     "metadata": {},
     "output_type": "execute_result"
    }
   ],
   "source": [
    "XGB_model.get_booster().get_score(importance_type='gain')"
   ]
  },
  {
   "cell_type": "code",
   "execution_count": 46,
   "metadata": {},
   "outputs": [
    {
     "data": {
      "image/png": "[encoded data removed]",
      "text/plain": [
       "<Figure size 576x432 with 1 Axes>"
      ]
     },
     "metadata": {
      "needs_background": "light"
     },
     "output_type": "display_data"
    }
   ],
   "source": [
    "plot_importance(XGB_model, max_num_features=20)\n",
    "pyplot.gcf().set_size_inches(8, 6, forward=True)\n",
    "pyplot.savefig('C:/Stats Consulting/feature_importance_plot.png',bbox_inches = \"tight\")\n",
    "pyplot.show()"
   ]
  },
  {
   "cell_type": "code",
   "execution_count": 47,
   "metadata": {},
   "outputs": [
    {
     "data": {
      "image/png": "[encoded data removed]",
      "text/plain": [
       "<Figure size 576x432 with 1 Axes>"
      ]
     },
     "metadata": {
      "needs_background": "light"
     },
     "output_type": "display_data"
    }
   ],
   "source": [
    "plot_importance(XGB_model.get_booster().get_score(importance_type='total_gain'), max_num_features=20)\n",
    "pyplot.gcf().set_size_inches(8, 6, forward=True)\n",
    "pyplot.savefig('C:/Stats Consulting/feature_importance_plot_gain.png', bbox_inches = \"tight\")\n",
    "pyplot.show()"
   ]
  },
  {
   "cell_type": "code",
   "execution_count": 20,
   "metadata": {},
   "outputs": [],
   "source": [
    "prediction_output = pd.DataFrame(best_model_pred, columns=['Repeat_Customer'])"
   ]
  },
  {
   "cell_type": "code",
   "execution_count": 21,
   "metadata": {},
   "outputs": [
    {
     "data": {
      "text/html": [
       "<div>\n",
       "<style scoped>\n",
       "    .dataframe tbody tr th:only-of-type {\n",
       "        vertical-align: middle;\n",
       "    }\n",
       "\n",
       "    .dataframe tbody tr th {\n",
       "        vertical-align: top;\n",
       "    }\n",
       "\n",
       "    .dataframe thead th {\n",
       "        text-align: right;\n",
       "    }\n",
       "</style>\n",
       "<table border=\"1\" class=\"dataframe\">\n",
       "  <thead>\n",
       "    <tr style=\"text-align: right;\">\n",
       "      <th></th>\n",
       "      <th>Repeat_Customer</th>\n",
       "    </tr>\n",
       "  </thead>\n",
       "  <tbody>\n",
       "    <tr>\n",
       "      <td>0</td>\n",
       "      <td>False</td>\n",
       "    </tr>\n",
       "    <tr>\n",
       "      <td>1</td>\n",
       "      <td>False</td>\n",
       "    </tr>\n",
       "    <tr>\n",
       "      <td>2</td>\n",
       "      <td>False</td>\n",
       "    </tr>\n",
       "    <tr>\n",
       "      <td>3</td>\n",
       "      <td>False</td>\n",
       "    </tr>\n",
       "    <tr>\n",
       "      <td>4</td>\n",
       "      <td>False</td>\n",
       "    </tr>\n",
       "    <tr>\n",
       "      <td>...</td>\n",
       "      <td>...</td>\n",
       "    </tr>\n",
       "    <tr>\n",
       "      <td>78255</td>\n",
       "      <td>False</td>\n",
       "    </tr>\n",
       "    <tr>\n",
       "      <td>78256</td>\n",
       "      <td>False</td>\n",
       "    </tr>\n",
       "    <tr>\n",
       "      <td>78257</td>\n",
       "      <td>False</td>\n",
       "    </tr>\n",
       "    <tr>\n",
       "      <td>78258</td>\n",
       "      <td>False</td>\n",
       "    </tr>\n",
       "    <tr>\n",
       "      <td>78259</td>\n",
       "      <td>False</td>\n",
       "    </tr>\n",
       "  </tbody>\n",
       "</table>\n",
       "<p>78260 rows × 1 columns</p>\n",
       "</div>"
      ],
      "text/plain": [
       "       Repeat_Customer\n",
       "0                False\n",
       "1                False\n",
       "2                False\n",
       "3                False\n",
       "4                False\n",
       "...                ...\n",
       "78255            False\n",
       "78256            False\n",
       "78257            False\n",
       "78258            False\n",
       "78259            False\n",
       "\n",
       "[78260 rows x 1 columns]"
      ]
     },
     "execution_count": 21,
     "metadata": {},
     "output_type": "execute_result"
    }
   ],
   "source": [
    "prediction_output.isnull()"
   ]
  },
  {
   "cell_type": "code",
   "execution_count": 22,
   "metadata": {},
   "outputs": [
    {
     "data": {
      "text/plain": [
       "(78260, 2)"
      ]
     },
     "execution_count": 22,
     "metadata": {},
     "output_type": "execute_result"
    }
   ],
   "source": [
    "testing_set_x_id.shape"
   ]
  },
  {
   "cell_type": "code",
   "execution_count": 23,
   "metadata": {},
   "outputs": [],
   "source": [
    "final_output = pd.concat([testing_set_x_id.reset_index(drop=True), prediction_output.reset_index(drop=True)], axis=1)"
   ]
  },
  {
   "cell_type": "code",
   "execution_count": 24,
   "metadata": {},
   "outputs": [],
   "source": [
    "final_output.head()\n",
    "final_output.to_csv('C:/Stats Consulting/prediction_output.csv')"
   ]
  },
  {
   "cell_type": "code",
   "execution_count": null,
   "metadata": {},
   "outputs": [],
   "source": []
  }
 ],
 "metadata": {
  "kernelspec": {
   "display_name": "Python 3",
   "language": "python",
   "name": "python3"
  },
  "language_info": {
   "codemirror_mode": {
    "name": "ipython",
    "version": 3
   },
   "file_extension": ".py",
   "mimetype": "text/x-python",
   "name": "python",
   "nbconvert_exporter": "python",
   "pygments_lexer": "ipython3",
   "version": "3.7.4"
  }
 },
 "nbformat": 4,
 "nbformat_minor": 2
}
