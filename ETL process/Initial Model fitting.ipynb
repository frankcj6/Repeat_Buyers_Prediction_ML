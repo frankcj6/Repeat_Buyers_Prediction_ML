{
 "cells": [
  {
   "cell_type": "code",
   "execution_count": 1,
   "metadata": {},
   "outputs": [],
   "source": [
    "import pandas as pd\n",
    "import numpy as np\n",
    "from sklearn.model_selection import train_test_split\n",
    "from sklearn.ensemble import RandomForestClassifier\n",
    "import lightgbm as lgb\n",
    "from sklearn import metrics\n",
    "from imblearn.over_sampling import SMOTE"
   ]
  },
  {
   "cell_type": "code",
   "execution_count": 2,
   "metadata": {},
   "outputs": [
    {
     "data": {
      "text/html": [
       "<div>\n",
       "<style scoped>\n",
       "    .dataframe tbody tr th:only-of-type {\n",
       "        vertical-align: middle;\n",
       "    }\n",
       "\n",
       "    .dataframe tbody tr th {\n",
       "        vertical-align: top;\n",
       "    }\n",
       "\n",
       "    .dataframe thead th {\n",
       "        text-align: right;\n",
       "    }\n",
       "</style>\n",
       "<table border=\"1\" class=\"dataframe\">\n",
       "  <thead>\n",
       "    <tr style=\"text-align: right;\">\n",
       "      <th></th>\n",
       "      <th>user_id</th>\n",
       "      <th>seller_id</th>\n",
       "      <th>label</th>\n",
       "      <th>user_gender_female</th>\n",
       "      <th>user_gender_male</th>\n",
       "      <th>user_gender_unknown</th>\n",
       "      <th>user_age_0_18</th>\n",
       "      <th>user_age_18_24</th>\n",
       "      <th>user_age_25_29</th>\n",
       "      <th>user_age_30_34</th>\n",
       "      <th>...</th>\n",
       "      <th>user_seller_add_to_favorite_cnt_db11_mth</th>\n",
       "      <th>user_seller_click_rt_db11</th>\n",
       "      <th>user_seller_purchase_rt_db11</th>\n",
       "      <th>user_seller_add_to_favorite_rt_db11</th>\n",
       "      <th>user_seller_click_rt_db11_wk</th>\n",
       "      <th>user_seller_purchase_rt_db11_wk</th>\n",
       "      <th>user_seller_add_to_favorite_rt_db11_wk</th>\n",
       "      <th>user_seller_click_rt_db11_mth</th>\n",
       "      <th>user_seller_purchase_rt_db11_mth</th>\n",
       "      <th>user_seller_add_to_favorite_rt_db11_mth</th>\n",
       "    </tr>\n",
       "  </thead>\n",
       "  <tbody>\n",
       "    <tr>\n",
       "      <td>0</td>\n",
       "      <td>34176</td>\n",
       "      <td>3906</td>\n",
       "      <td>0</td>\n",
       "      <td>1</td>\n",
       "      <td>0</td>\n",
       "      <td>0</td>\n",
       "      <td>0.0</td>\n",
       "      <td>0.0</td>\n",
       "      <td>0.0</td>\n",
       "      <td>0.0</td>\n",
       "      <td>...</td>\n",
       "      <td>0.0</td>\n",
       "      <td>0.0</td>\n",
       "      <td>0.0</td>\n",
       "      <td>0.0</td>\n",
       "      <td>0.0</td>\n",
       "      <td>0.0</td>\n",
       "      <td>0.0</td>\n",
       "      <td>0.0</td>\n",
       "      <td>0.0</td>\n",
       "      <td>0.0</td>\n",
       "    </tr>\n",
       "    <tr>\n",
       "      <td>1</td>\n",
       "      <td>34176</td>\n",
       "      <td>121</td>\n",
       "      <td>0</td>\n",
       "      <td>1</td>\n",
       "      <td>0</td>\n",
       "      <td>0</td>\n",
       "      <td>0.0</td>\n",
       "      <td>0.0</td>\n",
       "      <td>0.0</td>\n",
       "      <td>0.0</td>\n",
       "      <td>...</td>\n",
       "      <td>0.0</td>\n",
       "      <td>0.0</td>\n",
       "      <td>0.0</td>\n",
       "      <td>0.0</td>\n",
       "      <td>0.0</td>\n",
       "      <td>0.0</td>\n",
       "      <td>0.0</td>\n",
       "      <td>0.0</td>\n",
       "      <td>0.0</td>\n",
       "      <td>0.0</td>\n",
       "    </tr>\n",
       "    <tr>\n",
       "      <td>2</td>\n",
       "      <td>34176</td>\n",
       "      <td>4356</td>\n",
       "      <td>1</td>\n",
       "      <td>1</td>\n",
       "      <td>0</td>\n",
       "      <td>0</td>\n",
       "      <td>0.0</td>\n",
       "      <td>0.0</td>\n",
       "      <td>0.0</td>\n",
       "      <td>0.0</td>\n",
       "      <td>...</td>\n",
       "      <td>0.0</td>\n",
       "      <td>0.0</td>\n",
       "      <td>0.0</td>\n",
       "      <td>0.0</td>\n",
       "      <td>0.0</td>\n",
       "      <td>0.0</td>\n",
       "      <td>0.0</td>\n",
       "      <td>0.0</td>\n",
       "      <td>0.0</td>\n",
       "      <td>0.0</td>\n",
       "    </tr>\n",
       "    <tr>\n",
       "      <td>3</td>\n",
       "      <td>34176</td>\n",
       "      <td>2217</td>\n",
       "      <td>0</td>\n",
       "      <td>1</td>\n",
       "      <td>0</td>\n",
       "      <td>0</td>\n",
       "      <td>0.0</td>\n",
       "      <td>0.0</td>\n",
       "      <td>0.0</td>\n",
       "      <td>0.0</td>\n",
       "      <td>...</td>\n",
       "      <td>0.0</td>\n",
       "      <td>0.0</td>\n",
       "      <td>0.0</td>\n",
       "      <td>0.0</td>\n",
       "      <td>0.0</td>\n",
       "      <td>0.0</td>\n",
       "      <td>0.0</td>\n",
       "      <td>0.0</td>\n",
       "      <td>0.0</td>\n",
       "      <td>0.0</td>\n",
       "    </tr>\n",
       "    <tr>\n",
       "      <td>4</td>\n",
       "      <td>230784</td>\n",
       "      <td>4818</td>\n",
       "      <td>0</td>\n",
       "      <td>1</td>\n",
       "      <td>0</td>\n",
       "      <td>0</td>\n",
       "      <td>0.0</td>\n",
       "      <td>0.0</td>\n",
       "      <td>0.0</td>\n",
       "      <td>0.0</td>\n",
       "      <td>...</td>\n",
       "      <td>0.0</td>\n",
       "      <td>0.0</td>\n",
       "      <td>0.0</td>\n",
       "      <td>0.0</td>\n",
       "      <td>0.0</td>\n",
       "      <td>0.0</td>\n",
       "      <td>0.0</td>\n",
       "      <td>0.0</td>\n",
       "      <td>0.0</td>\n",
       "      <td>0.0</td>\n",
       "    </tr>\n",
       "  </tbody>\n",
       "</table>\n",
       "<p>5 rows × 82 columns</p>\n",
       "</div>"
      ],
      "text/plain": [
       "   user_id  seller_id  label  user_gender_female  user_gender_male  \\\n",
       "0    34176       3906      0                   1                 0   \n",
       "1    34176        121      0                   1                 0   \n",
       "2    34176       4356      1                   1                 0   \n",
       "3    34176       2217      0                   1                 0   \n",
       "4   230784       4818      0                   1                 0   \n",
       "\n",
       "   user_gender_unknown  user_age_0_18  user_age_18_24  user_age_25_29  \\\n",
       "0                    0            0.0             0.0             0.0   \n",
       "1                    0            0.0             0.0             0.0   \n",
       "2                    0            0.0             0.0             0.0   \n",
       "3                    0            0.0             0.0             0.0   \n",
       "4                    0            0.0             0.0             0.0   \n",
       "\n",
       "   user_age_30_34  ...  user_seller_add_to_favorite_cnt_db11_mth  \\\n",
       "0             0.0  ...                                       0.0   \n",
       "1             0.0  ...                                       0.0   \n",
       "2             0.0  ...                                       0.0   \n",
       "3             0.0  ...                                       0.0   \n",
       "4             0.0  ...                                       0.0   \n",
       "\n",
       "   user_seller_click_rt_db11  user_seller_purchase_rt_db11  \\\n",
       "0                        0.0                           0.0   \n",
       "1                        0.0                           0.0   \n",
       "2                        0.0                           0.0   \n",
       "3                        0.0                           0.0   \n",
       "4                        0.0                           0.0   \n",
       "\n",
       "   user_seller_add_to_favorite_rt_db11  user_seller_click_rt_db11_wk  \\\n",
       "0                                  0.0                           0.0   \n",
       "1                                  0.0                           0.0   \n",
       "2                                  0.0                           0.0   \n",
       "3                                  0.0                           0.0   \n",
       "4                                  0.0                           0.0   \n",
       "\n",
       "   user_seller_purchase_rt_db11_wk  user_seller_add_to_favorite_rt_db11_wk  \\\n",
       "0                              0.0                                     0.0   \n",
       "1                              0.0                                     0.0   \n",
       "2                              0.0                                     0.0   \n",
       "3                              0.0                                     0.0   \n",
       "4                              0.0                                     0.0   \n",
       "\n",
       "   user_seller_click_rt_db11_mth  user_seller_purchase_rt_db11_mth  \\\n",
       "0                            0.0                               0.0   \n",
       "1                            0.0                               0.0   \n",
       "2                            0.0                               0.0   \n",
       "3                            0.0                               0.0   \n",
       "4                            0.0                               0.0   \n",
       "\n",
       "   user_seller_add_to_favorite_rt_db11_mth  \n",
       "0                                      0.0  \n",
       "1                                      0.0  \n",
       "2                                      0.0  \n",
       "3                                      0.0  \n",
       "4                                      0.0  \n",
       "\n",
       "[5 rows x 82 columns]"
      ]
     },
     "execution_count": 2,
     "metadata": {},
     "output_type": "execute_result"
    }
   ],
   "source": [
    "#load data\n",
    "train = pd.read_csv('C:/Stats Consulting/train_final.csv')\n",
    "train.head()"
   ]
  },
  {
   "cell_type": "code",
   "execution_count": 3,
   "metadata": {},
   "outputs": [
    {
     "data": {
      "text/html": [
       "<div>\n",
       "<style scoped>\n",
       "    .dataframe tbody tr th:only-of-type {\n",
       "        vertical-align: middle;\n",
       "    }\n",
       "\n",
       "    .dataframe tbody tr th {\n",
       "        vertical-align: top;\n",
       "    }\n",
       "\n",
       "    .dataframe thead th {\n",
       "        text-align: right;\n",
       "    }\n",
       "</style>\n",
       "<table border=\"1\" class=\"dataframe\">\n",
       "  <thead>\n",
       "    <tr style=\"text-align: right;\">\n",
       "      <th></th>\n",
       "      <th>user_id</th>\n",
       "      <th>seller_id</th>\n",
       "      <th>user_gender_female</th>\n",
       "      <th>user_gender_male</th>\n",
       "      <th>user_gender_unknown</th>\n",
       "      <th>user_age_0_18</th>\n",
       "      <th>user_age_18_24</th>\n",
       "      <th>user_age_25_29</th>\n",
       "      <th>user_age_30_34</th>\n",
       "      <th>user_age_35_39</th>\n",
       "      <th>...</th>\n",
       "      <th>user_seller_add_to_favorite_cnt_db11_mth</th>\n",
       "      <th>user_seller_click_rt_db11</th>\n",
       "      <th>user_seller_purchase_rt_db11</th>\n",
       "      <th>user_seller_add_to_favorite_rt_db11</th>\n",
       "      <th>user_seller_click_rt_db11_wk</th>\n",
       "      <th>user_seller_purchase_rt_db11_wk</th>\n",
       "      <th>user_seller_add_to_favorite_rt_db11_wk</th>\n",
       "      <th>user_seller_click_rt_db11_mth</th>\n",
       "      <th>user_seller_purchase_rt_db11_mth</th>\n",
       "      <th>user_seller_add_to_favorite_rt_db11_mth</th>\n",
       "    </tr>\n",
       "  </thead>\n",
       "  <tbody>\n",
       "    <tr>\n",
       "      <td>0</td>\n",
       "      <td>163968</td>\n",
       "      <td>4605</td>\n",
       "      <td>1</td>\n",
       "      <td>0</td>\n",
       "      <td>0</td>\n",
       "      <td>0.0</td>\n",
       "      <td>0.0</td>\n",
       "      <td>0.0</td>\n",
       "      <td>0.0</td>\n",
       "      <td>0.0</td>\n",
       "      <td>...</td>\n",
       "      <td>0.0</td>\n",
       "      <td>0.0</td>\n",
       "      <td>0.0</td>\n",
       "      <td>0.0</td>\n",
       "      <td>0.0</td>\n",
       "      <td>0.0</td>\n",
       "      <td>0.0</td>\n",
       "      <td>0.0</td>\n",
       "      <td>0.0</td>\n",
       "      <td>0.0</td>\n",
       "    </tr>\n",
       "    <tr>\n",
       "      <td>1</td>\n",
       "      <td>360576</td>\n",
       "      <td>1581</td>\n",
       "      <td>0</td>\n",
       "      <td>0</td>\n",
       "      <td>1</td>\n",
       "      <td>0.0</td>\n",
       "      <td>1.0</td>\n",
       "      <td>0.0</td>\n",
       "      <td>0.0</td>\n",
       "      <td>0.0</td>\n",
       "      <td>...</td>\n",
       "      <td>0.0</td>\n",
       "      <td>1.4</td>\n",
       "      <td>0.6</td>\n",
       "      <td>0.0</td>\n",
       "      <td>0.0</td>\n",
       "      <td>0.0</td>\n",
       "      <td>0.0</td>\n",
       "      <td>0.0</td>\n",
       "      <td>0.0</td>\n",
       "      <td>0.0</td>\n",
       "    </tr>\n",
       "    <tr>\n",
       "      <td>2</td>\n",
       "      <td>98688</td>\n",
       "      <td>1964</td>\n",
       "      <td>1</td>\n",
       "      <td>0</td>\n",
       "      <td>0</td>\n",
       "      <td>0.0</td>\n",
       "      <td>0.0</td>\n",
       "      <td>0.0</td>\n",
       "      <td>0.0</td>\n",
       "      <td>0.0</td>\n",
       "      <td>...</td>\n",
       "      <td>0.0</td>\n",
       "      <td>0.0</td>\n",
       "      <td>0.0</td>\n",
       "      <td>0.0</td>\n",
       "      <td>0.0</td>\n",
       "      <td>0.0</td>\n",
       "      <td>0.0</td>\n",
       "      <td>0.0</td>\n",
       "      <td>0.0</td>\n",
       "      <td>0.0</td>\n",
       "    </tr>\n",
       "    <tr>\n",
       "      <td>3</td>\n",
       "      <td>98688</td>\n",
       "      <td>3645</td>\n",
       "      <td>1</td>\n",
       "      <td>0</td>\n",
       "      <td>0</td>\n",
       "      <td>0.0</td>\n",
       "      <td>0.0</td>\n",
       "      <td>0.0</td>\n",
       "      <td>0.0</td>\n",
       "      <td>0.0</td>\n",
       "      <td>...</td>\n",
       "      <td>0.0</td>\n",
       "      <td>0.0</td>\n",
       "      <td>0.0</td>\n",
       "      <td>0.0</td>\n",
       "      <td>0.0</td>\n",
       "      <td>0.0</td>\n",
       "      <td>0.0</td>\n",
       "      <td>0.0</td>\n",
       "      <td>0.0</td>\n",
       "      <td>0.0</td>\n",
       "    </tr>\n",
       "    <tr>\n",
       "      <td>4</td>\n",
       "      <td>295296</td>\n",
       "      <td>3361</td>\n",
       "      <td>0</td>\n",
       "      <td>1</td>\n",
       "      <td>0</td>\n",
       "      <td>0.0</td>\n",
       "      <td>1.0</td>\n",
       "      <td>0.0</td>\n",
       "      <td>0.0</td>\n",
       "      <td>0.0</td>\n",
       "      <td>...</td>\n",
       "      <td>0.0</td>\n",
       "      <td>0.0</td>\n",
       "      <td>0.0</td>\n",
       "      <td>0.0</td>\n",
       "      <td>0.0</td>\n",
       "      <td>0.0</td>\n",
       "      <td>0.0</td>\n",
       "      <td>0.0</td>\n",
       "      <td>0.0</td>\n",
       "      <td>0.0</td>\n",
       "    </tr>\n",
       "  </tbody>\n",
       "</table>\n",
       "<p>5 rows × 81 columns</p>\n",
       "</div>"
      ],
      "text/plain": [
       "   user_id  seller_id  user_gender_female  user_gender_male  \\\n",
       "0   163968       4605                   1                 0   \n",
       "1   360576       1581                   0                 0   \n",
       "2    98688       1964                   1                 0   \n",
       "3    98688       3645                   1                 0   \n",
       "4   295296       3361                   0                 1   \n",
       "\n",
       "   user_gender_unknown  user_age_0_18  user_age_18_24  user_age_25_29  \\\n",
       "0                    0            0.0             0.0             0.0   \n",
       "1                    1            0.0             1.0             0.0   \n",
       "2                    0            0.0             0.0             0.0   \n",
       "3                    0            0.0             0.0             0.0   \n",
       "4                    0            0.0             1.0             0.0   \n",
       "\n",
       "   user_age_30_34  user_age_35_39  ...  \\\n",
       "0             0.0             0.0  ...   \n",
       "1             0.0             0.0  ...   \n",
       "2             0.0             0.0  ...   \n",
       "3             0.0             0.0  ...   \n",
       "4             0.0             0.0  ...   \n",
       "\n",
       "   user_seller_add_to_favorite_cnt_db11_mth  user_seller_click_rt_db11  \\\n",
       "0                                       0.0                        0.0   \n",
       "1                                       0.0                        1.4   \n",
       "2                                       0.0                        0.0   \n",
       "3                                       0.0                        0.0   \n",
       "4                                       0.0                        0.0   \n",
       "\n",
       "   user_seller_purchase_rt_db11  user_seller_add_to_favorite_rt_db11  \\\n",
       "0                           0.0                                  0.0   \n",
       "1                           0.6                                  0.0   \n",
       "2                           0.0                                  0.0   \n",
       "3                           0.0                                  0.0   \n",
       "4                           0.0                                  0.0   \n",
       "\n",
       "   user_seller_click_rt_db11_wk  user_seller_purchase_rt_db11_wk  \\\n",
       "0                           0.0                              0.0   \n",
       "1                           0.0                              0.0   \n",
       "2                           0.0                              0.0   \n",
       "3                           0.0                              0.0   \n",
       "4                           0.0                              0.0   \n",
       "\n",
       "   user_seller_add_to_favorite_rt_db11_wk  user_seller_click_rt_db11_mth  \\\n",
       "0                                     0.0                            0.0   \n",
       "1                                     0.0                            0.0   \n",
       "2                                     0.0                            0.0   \n",
       "3                                     0.0                            0.0   \n",
       "4                                     0.0                            0.0   \n",
       "\n",
       "   user_seller_purchase_rt_db11_mth  user_seller_add_to_favorite_rt_db11_mth  \n",
       "0                               0.0                                      0.0  \n",
       "1                               0.0                                      0.0  \n",
       "2                               0.0                                      0.0  \n",
       "3                               0.0                                      0.0  \n",
       "4                               0.0                                      0.0  \n",
       "\n",
       "[5 rows x 81 columns]"
      ]
     },
     "execution_count": 3,
     "metadata": {},
     "output_type": "execute_result"
    }
   ],
   "source": [
    "test = pd.read_csv('C:/Stats Consulting/test_final.csv')\n",
    "test.head()"
   ]
  },
  {
   "cell_type": "code",
   "execution_count": 4,
   "metadata": {},
   "outputs": [],
   "source": [
    "#fill all infinite entry with 0\n",
    "train = train.replace(np.inf, 0)\n",
    "test = test.replace(np.inf, 0)"
   ]
  },
  {
   "cell_type": "code",
   "execution_count": 5,
   "metadata": {},
   "outputs": [
    {
     "data": {
      "text/plain": [
       "0.06115063788027478"
      ]
     },
     "execution_count": 5,
     "metadata": {},
     "output_type": "execute_result"
    }
   ],
   "source": [
    "#data split (training_set, testing_set)\n",
    "data_output = train.label\n",
    "data_input = train.drop('label',axis=1)\n",
    "#unbalanced\n",
    "data_output.sum()/data_output.count()"
   ]
  },
  {
   "cell_type": "code",
   "execution_count": 6,
   "metadata": {},
   "outputs": [
    {
     "name": "stdout",
     "output_type": "stream",
     "text": [
      "(182604, 81) (78260, 81) (182604,) (78260,)\n"
     ]
    }
   ],
   "source": [
    "training_set_x, testing_set_x, training_set_y, testing_set_y = train_test_split(data_input, data_output, test_size=0.3, random_state=1)\n",
    "print(training_set_x.shape, testing_set_x.shape, training_set_y.shape, testing_set_y.shape)"
   ]
  },
  {
   "cell_type": "code",
   "execution_count": 7,
   "metadata": {},
   "outputs": [
    {
     "data": {
      "text/plain": [
       "user_id                                    True\n",
       "seller_id                                  True\n",
       "user_gender_female                         True\n",
       "user_gender_male                           True\n",
       "user_gender_unknown                        True\n",
       "                                           ... \n",
       "user_seller_purchase_rt_db11_wk            True\n",
       "user_seller_add_to_favorite_rt_db11_wk     True\n",
       "user_seller_click_rt_db11_mth              True\n",
       "user_seller_purchase_rt_db11_mth           True\n",
       "user_seller_add_to_favorite_rt_db11_mth    True\n",
       "Length: 81, dtype: bool"
      ]
     },
     "execution_count": 7,
     "metadata": {},
     "output_type": "execute_result"
    }
   ],
   "source": [
    "np.isfinite(training_set_x).all()"
   ]
  },
  {
   "cell_type": "code",
   "execution_count": 28,
   "metadata": {},
   "outputs": [
    {
     "name": "stdout",
     "output_type": "stream",
     "text": [
      "Accuracy: 0.9381165346281626\n",
      "ROC AUC: 0.6282399001136609\n"
     ]
    }
   ],
   "source": [
    "#initial model fitting\n",
    "#random forest\n",
    "model_rf = RandomForestClassifier(n_estimators=100, criterion='gini',bootstrap= True,max_features ='sqrt')\n",
    "#fit on training data\n",
    "model_rf.fit(training_set_x, training_set_y)\n",
    "#predictions\n",
    "rf_predictions = model_rf.predict(testing_set_x)\n",
    "rf_probs = model_rf.predict_proba(testing_set_x)[:, 1]\n",
    "#check model accuracy, ROC AUC\n",
    "print('Accuracy:',metrics.accuracy_score(testing_set_y, rf_predictions))\n",
    "print('ROC AUC:', metrics.roc_auc_score(testing_set_y, rf_probs))"
   ]
  },
  {
   "cell_type": "code",
   "execution_count": 29,
   "metadata": {},
   "outputs": [
    {
     "data": {
      "text/plain": [
       "0.0001277791975466394"
      ]
     },
     "execution_count": 29,
     "metadata": {},
     "output_type": "execute_result"
    }
   ],
   "source": [
    "np.mean(rf_predictions)"
   ]
  },
  {
   "cell_type": "code",
   "execution_count": 9,
   "metadata": {},
   "outputs": [
    {
     "name": "stdout",
     "output_type": "stream",
     "text": [
      "Accuracy: 0.9381165346281626\n",
      "ROC AUC 0.6608758699703369\n"
     ]
    }
   ],
   "source": [
    "#Gradient Boosting\n",
    "model_gbm = lgb.LGBMClassifier(objective='binary', metric='binary_logloss',learning_rate=0.03)\n",
    "#fit on training data\n",
    "model_gbm.fit(training_set_x, training_set_y)\n",
    "#predictions\n",
    "gbm_predictions = model_gbm.predict(testing_set_x)\n",
    "gbm_probs = model_gbm.predict_proba(testing_set_x)[:, 1]\n",
    "#check model accuracy, ROC AUC\n",
    "print('Accuracy:', metrics.accuracy_score(testing_set_y, gbm_predictions))\n",
    "print('ROC AUC', metrics.roc_auc_score(testing_set_y, gbm_probs))"
   ]
  },
  {
   "cell_type": "code",
   "execution_count": 23,
   "metadata": {},
   "outputs": [
    {
     "data": {
      "text/plain": [
       "0.0"
      ]
     },
     "execution_count": 23,
     "metadata": {},
     "output_type": "execute_result"
    }
   ],
   "source": [
    "np.mean(gbm_predictions)"
   ]
  },
  {
   "cell_type": "code",
   "execution_count": 16,
   "metadata": {},
   "outputs": [
    {
     "name": "stdout",
     "output_type": "stream",
     "text": [
      "After oversampling, counts of label 1: 171495\n",
      "After oversampling, counts of label 0: 171495\n"
     ]
    }
   ],
   "source": [
    "#SMOTE\n",
    "sm = SMOTE(random_state=2)\n",
    "training_set_x_res, training_set_y_res = sm.fit_sample(training_set_x, training_set_y.ravel())\n",
    "#print percentage of output after oversampling\n",
    "print('After oversampling, counts of label 1:',format(sum(training_set_y_res==1)))\n",
    "print('After oversampling, counts of label 0:',format(sum(training_set_y_res==0)))"
   ]
  },
  {
   "cell_type": "code",
   "execution_count": 17,
   "metadata": {},
   "outputs": [
    {
     "name": "stdout",
     "output_type": "stream",
     "text": [
      "Accuracy: 0.9375159723996933\n",
      "ROC AUC: 0.6175108213055363\n"
     ]
    }
   ],
   "source": [
    "#random forest model fitting with over sampling data\n",
    "model_rf_2 = RandomForestClassifier(n_estimators=100, criterion='gini',bootstrap= True,max_features ='sqrt')\n",
    "#fit on training data\n",
    "model_rf_2.fit(training_set_x_res, training_set_y_res)\n",
    "#predictions\n",
    "rf2_predictions = model_rf_2.predict(testing_set_x)\n",
    "rf2_probs = model_rf_2.predict_proba(testing_set_x)[:, 1]\n",
    "#check model accuracy, ROC AUC\n",
    "print('Accuracy:',metrics.accuracy_score(testing_set_y, rf2_predictions))\n",
    "print('ROC AUC:', metrics.roc_auc_score(testing_set_y, rf2_probs))"
   ]
  },
  {
   "cell_type": "code",
   "execution_count": 24,
   "metadata": {},
   "outputs": [
    {
     "data": {
      "text/plain": [
       "0.0011116790186557629"
      ]
     },
     "execution_count": 24,
     "metadata": {},
     "output_type": "execute_result"
    }
   ],
   "source": [
    "np.mean(rf2_predictions)"
   ]
  },
  {
   "cell_type": "code",
   "execution_count": 18,
   "metadata": {},
   "outputs": [
    {
     "name": "stdout",
     "output_type": "stream",
     "text": [
      "Accuracy: 0.9380782008688986\n",
      "ROC AUC 0.6003051801336191\n"
     ]
    }
   ],
   "source": [
    "#Gradient Boosting\n",
    "model_gbm_2 = lgb.LGBMClassifier(objective='binary', metric='binary_logloss',learning_rate=0.03)\n",
    "#fit on training data\n",
    "model_gbm_2.fit(training_set_x_res, training_set_y_res)\n",
    "#predictions\n",
    "gbm2_predictions = model_gbm_2.predict(testing_set_x)\n",
    "gbm2_probs = model_gbm_2.predict_proba(testing_set_x)[:, 1]\n",
    "#check model accuracy, ROC AUC\n",
    "print('Accuracy:', metrics.accuracy_score(testing_set_y, gbm2_predictions))\n",
    "print('ROC AUC', metrics.roc_auc_score(testing_set_y, gbm2_probs))"
   ]
  },
  {
   "cell_type": "code",
   "execution_count": 25,
   "metadata": {},
   "outputs": [
    {
     "data": {
      "text/plain": [
       "0.00011500127779197546"
      ]
     },
     "execution_count": 25,
     "metadata": {},
     "output_type": "execute_result"
    }
   ],
   "source": [
    "np.mean(gbm2_predictions)"
   ]
  }
 ],
 "metadata": {
  "kernelspec": {
   "display_name": "Python 3",
   "language": "python",
   "name": "python3"
  },
  "language_info": {
   "codemirror_mode": {
    "name": "ipython",
    "version": 3
   },
   "file_extension": ".py",
   "mimetype": "text/x-python",
   "name": "python",
   "nbconvert_exporter": "python",
   "pygments_lexer": "ipython3",
   "version": "3.7.4"
  }
 },
 "nbformat": 4,
 "nbformat_minor": 2
}
